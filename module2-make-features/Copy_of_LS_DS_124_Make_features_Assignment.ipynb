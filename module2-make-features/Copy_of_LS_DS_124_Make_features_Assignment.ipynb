{
  "nbformat": 4,
  "nbformat_minor": 0,
  "metadata": {
    "colab": {
      "name": "Copy of Copy of LS_DS_124_Make_features_Assignment.ipynb",
      "provenance": [],
      "collapsed_sections": [],
      "include_colab_link": true
    },
    "kernelspec": {
      "display_name": "Python 3",
      "language": "python",
      "name": "python3"
    },
    "language_info": {
      "codemirror_mode": {
        "name": "ipython",
        "version": 3
      },
      "file_extension": ".py",
      "mimetype": "text/x-python",
      "name": "python",
      "nbconvert_exporter": "python",
      "pygments_lexer": "ipython3",
      "version": "3.7.1"
    }
  },
  "cells": [
    {
      "cell_type": "markdown",
      "metadata": {
        "id": "view-in-github",
        "colab_type": "text"
      },
      "source": [
        "<a href=\"https://colab.research.google.com/github/Data-alchemist-mani/DS-Unit-1-Sprint-1-Data-Wrangling-and-Storytelling/blob/master/module2-make-features/Copy_of_LS_DS_124_Make_features_Assignment.ipynb\" target=\"_parent\"><img src=\"https://colab.research.google.com/assets/colab-badge.svg\" alt=\"Open In Colab\"/></a>"
      ]
    },
    {
      "cell_type": "markdown",
      "metadata": {
        "colab_type": "text",
        "id": "qacqiXogluN_"
      },
      "source": [
        "_Lambda School Data Science_\n",
        "\n",
        "# Make features\n",
        "\n",
        "Objectives\n",
        "-  understand the purpose of feature engineering\n",
        "-  work with strings in pandas\n",
        "- work with dates and times in pandas\n",
        "\n",
        "Links\n",
        "- [Feature Engineering](https://en.wikipedia.org/wiki/Feature_engineering)\n",
        "- Python Data Science Handbook\n",
        "  - [Chapter 3.10](https://jakevdp.github.io/PythonDataScienceHandbook/03.10-working-with-strings.html), Vectorized String Operations\n",
        "  - [Chapter 3.11](https://jakevdp.github.io/PythonDataScienceHandbook/03.11-working-with-time-series.html), Working with Time Series"
      ]
    },
    {
      "cell_type": "markdown",
      "metadata": {
        "colab_type": "text",
        "id": "iSGiSktAoWIx"
      },
      "source": [
        "## Get LendingClub data\n",
        "\n",
        "[Source](https://www.lendingclub.com/info/download-data.action)"
      ]
    },
    {
      "cell_type": "code",
      "metadata": {
        "colab_type": "code",
        "id": "2ugxlWXimoHn",
        "outputId": "77ea8b7f-8310-4597-e428-45ae43164725",
        "colab": {
          "base_uri": "https://localhost:8080/",
          "height": 228
        }
      },
      "source": [
        "!wget https://resources.lendingclub.com/LoanStats_2018Q3.csv.zip"
      ],
      "execution_count": 1,
      "outputs": [
        {
          "output_type": "stream",
          "text": [
            "--2019-12-05 22:41:31--  https://resources.lendingclub.com/LoanStats_2018Q3.csv.zip\n",
            "Resolving resources.lendingclub.com (resources.lendingclub.com)... 64.48.1.20\n",
            "Connecting to resources.lendingclub.com (resources.lendingclub.com)|64.48.1.20|:443... connected.\n",
            "HTTP request sent, awaiting response... 200 OK\n",
            "Length: unspecified [application/zip]\n",
            "Saving to: ‘LoanStats_2018Q3.csv.zip’\n",
            "\n",
            "LoanStats_2018Q3.cs     [                <=> ]  21.83M   857KB/s    in 26s     \n",
            "\n",
            "2019-12-05 22:41:58 (844 KB/s) - ‘LoanStats_2018Q3.csv.zip’ saved [22889296]\n",
            "\n"
          ],
          "name": "stdout"
        }
      ]
    },
    {
      "cell_type": "code",
      "metadata": {
        "colab_type": "code",
        "id": "-4sk6qPgmpmN",
        "outputId": "15c90375-764e-4765-9ead-0f488eb664f2",
        "colab": {
          "base_uri": "https://localhost:8080/",
          "height": 51
        }
      },
      "source": [
        "!unzip LoanStats_2018Q3.csv.zip"
      ],
      "execution_count": 2,
      "outputs": [
        {
          "output_type": "stream",
          "text": [
            "Archive:  LoanStats_2018Q3.csv.zip\n",
            "  inflating: LoanStats_2018Q3.csv    \n"
          ],
          "name": "stdout"
        }
      ]
    },
    {
      "cell_type": "code",
      "metadata": {
        "colab_type": "code",
        "id": "seh5oNE1nD0X",
        "outputId": "9fdae301-5f94-40e5-ee41-d61774e2baa5",
        "colab": {
          "base_uri": "https://localhost:8080/",
          "height": 210
        }
      },
      "source": [
        "!head LoanStats_2018Q3.csv"
      ],
      "execution_count": 3,
      "outputs": [
        {
          "output_type": "stream",
          "text": [
            "Notes offered by Prospectus (https://www.lendingclub.com/info/prospectus.action)\n",
            "\"id\",\"member_id\",\"loan_amnt\",\"funded_amnt\",\"funded_amnt_inv\",\"term\",\"int_rate\",\"installment\",\"grade\",\"sub_grade\",\"emp_title\",\"emp_length\",\"home_ownership\",\"annual_inc\",\"verification_status\",\"issue_d\",\"loan_status\",\"pymnt_plan\",\"url\",\"desc\",\"purpose\",\"title\",\"zip_code\",\"addr_state\",\"dti\",\"delinq_2yrs\",\"earliest_cr_line\",\"inq_last_6mths\",\"mths_since_last_delinq\",\"mths_since_last_record\",\"open_acc\",\"pub_rec\",\"revol_bal\",\"revol_util\",\"total_acc\",\"initial_list_status\",\"out_prncp\",\"out_prncp_inv\",\"total_pymnt\",\"total_pymnt_inv\",\"total_rec_prncp\",\"total_rec_int\",\"total_rec_late_fee\",\"recoveries\",\"collection_recovery_fee\",\"last_pymnt_d\",\"last_pymnt_amnt\",\"next_pymnt_d\",\"last_credit_pull_d\",\"collections_12_mths_ex_med\",\"mths_since_last_major_derog\",\"policy_code\",\"application_type\",\"annual_inc_joint\",\"dti_joint\",\"verification_status_joint\",\"acc_now_delinq\",\"tot_coll_amt\",\"tot_cur_bal\",\"open_acc_6m\",\"open_act_il\",\"open_il_12m\",\"open_il_24m\",\"mths_since_rcnt_il\",\"total_bal_il\",\"il_util\",\"open_rv_12m\",\"open_rv_24m\",\"max_bal_bc\",\"all_util\",\"total_rev_hi_lim\",\"inq_fi\",\"total_cu_tl\",\"inq_last_12m\",\"acc_open_past_24mths\",\"avg_cur_bal\",\"bc_open_to_buy\",\"bc_util\",\"chargeoff_within_12_mths\",\"delinq_amnt\",\"mo_sin_old_il_acct\",\"mo_sin_old_rev_tl_op\",\"mo_sin_rcnt_rev_tl_op\",\"mo_sin_rcnt_tl\",\"mort_acc\",\"mths_since_recent_bc\",\"mths_since_recent_bc_dlq\",\"mths_since_recent_inq\",\"mths_since_recent_revol_delinq\",\"num_accts_ever_120_pd\",\"num_actv_bc_tl\",\"num_actv_rev_tl\",\"num_bc_sats\",\"num_bc_tl\",\"num_il_tl\",\"num_op_rev_tl\",\"num_rev_accts\",\"num_rev_tl_bal_gt_0\",\"num_sats\",\"num_tl_120dpd_2m\",\"num_tl_30dpd\",\"num_tl_90g_dpd_24m\",\"num_tl_op_past_12m\",\"pct_tl_nvr_dlq\",\"percent_bc_gt_75\",\"pub_rec_bankruptcies\",\"tax_liens\",\"tot_hi_cred_lim\",\"total_bal_ex_mort\",\"total_bc_limit\",\"total_il_high_credit_limit\",\"revol_bal_joint\",\"sec_app_earliest_cr_line\",\"sec_app_inq_last_6mths\",\"sec_app_mort_acc\",\"sec_app_open_acc\",\"sec_app_revol_util\",\"sec_app_open_act_il\",\"sec_app_num_rev_accts\",\"sec_app_chargeoff_within_12_mths\",\"sec_app_collections_12_mths_ex_med\",\"sec_app_mths_since_last_major_derog\",\"hardship_flag\",\"hardship_type\",\"hardship_reason\",\"hardship_status\",\"deferral_term\",\"hardship_amount\",\"hardship_start_date\",\"hardship_end_date\",\"payment_plan_start_date\",\"hardship_length\",\"hardship_dpd\",\"hardship_loan_status\",\"orig_projected_additional_accrued_interest\",\"hardship_payoff_balance_amount\",\"hardship_last_payment_amount\",\"debt_settlement_flag\",\"debt_settlement_flag_date\",\"settlement_status\",\"settlement_date\",\"settlement_amount\",\"settlement_percentage\",\"settlement_term\"\n",
            "\"\",\"\",\"9000\",\"9000\",\"9000\",\" 36 months\",\" 15.02%\",\"312.08\",\"C\",\"C3\",\"buyer\",\"10+ years\",\"MORTGAGE\",\"90000\",\"Source Verified\",\"Sep-2018\",\"Current\",\"n\",\"\",\"\",\"other\",\"Other\",\"018xx\",\"MA\",\"10.81\",\"0\",\"Jul-2010\",\"1\",\"\",\"\",\"7\",\"0\",\"28814\",\"65.5%\",\"8\",\"w\",\"5969.05\",\"5969.05\",\"4354.1\",\"4354.10\",\"3030.95\",\"1323.15\",\"0.0\",\"0.0\",\"0.0\",\"Nov-2019\",\"312.08\",\"Dec-2019\",\"Nov-2019\",\"0\",\"\",\"1\",\"Individual\",\"\",\"\",\"\",\"0\",\"0\",\"266673\",\"1\",\"0\",\"0\",\"0\",\"\",\"0\",\"\",\"1\",\"3\",\"18239\",\"66\",\"44000\",\"0\",\"0\",\"3\",\"4\",\"38096\",\"13249\",\"66.9\",\"0\",\"0\",\"\",\"98\",\"4\",\"4\",\"1\",\"21\",\"\",\"4\",\"\",\"0\",\"2\",\"4\",\"3\",\"3\",\"0\",\"6\",\"7\",\"4\",\"7\",\"0\",\"0\",\"0\",\"2\",\"100\",\"66.7\",\"0\",\"0\",\"284200\",\"28814\",\"40000\",\"0\",\"\",\"\",\"\",\"\",\"\",\"\",\"\",\"\",\"\",\"\",\"\",\"N\",\"\",\"\",\"\",\"\",\"\",\"\",\"\",\"\",\"\",\"\",\"\",\"\",\"\",\"\",\"N\",\"\",\"\",\"\",\"\",\"\",\"\"\n",
            "\"\",\"\",\"29000\",\"29000\",\"29000\",\" 36 months\",\" 10.08%\",\"936.84\",\"B\",\"B1\",\"Attorney\",\"9 years\",\"RENT\",\"123000\",\"Not Verified\",\"Sep-2018\",\"Current\",\"n\",\"\",\"\",\"credit_card\",\"Credit card refinancing\",\"191xx\",\"PA\",\"27.73\",\"0\",\"May-2006\",\"0\",\"\",\"\",\"12\",\"0\",\"50905\",\"79%\",\"26\",\"w\",\"18746.50\",\"18746.50\",\"13083.28\",\"13083.28\",\"10253.50\",\"2829.78\",\"0.0\",\"0.0\",\"0.0\",\"Nov-2019\",\"936.84\",\"Dec-2019\",\"Nov-2019\",\"0\",\"\",\"1\",\"Individual\",\"\",\"\",\"\",\"0\",\"0\",\"202928\",\"0\",\"2\",\"0\",\"0\",\"25\",\"152023\",\"37\",\"0\",\"0\",\"20610\",\"72\",\"64400\",\"0\",\"0\",\"0\",\"0\",\"22548\",\"3213\",\"93\",\"0\",\"0\",\"121\",\"148\",\"45\",\"25\",\"0\",\"81\",\"\",\"\",\"\",\"0\",\"4\",\"7\",\"5\",\"6\",\"11\",\"10\",\"15\",\"7\",\"12\",\"0\",\"0\",\"0\",\"0\",\"100\",\"100\",\"0\",\"0\",\"189145\",\"202928\",\"46100\",\"124745\",\"\",\"\",\"\",\"\",\"\",\"\",\"\",\"\",\"\",\"\",\"\",\"N\",\"\",\"\",\"\",\"\",\"\",\"\",\"\",\"\",\"\",\"\",\"\",\"\",\"\",\"\",\"N\",\"\",\"\",\"\",\"\",\"\",\"\"\n",
            "\"\",\"\",\"15000\",\"15000\",\"15000\",\" 36 months\",\"  8.46%\",\"473.24\",\"A\",\"A5\",\"\",\"< 1 year\",\"RENT\",\"144898\",\"Not Verified\",\"Sep-2018\",\"Fully Paid\",\"n\",\"\",\"\",\"debt_consolidation\",\"Debt consolidation\",\"077xx\",\"NJ\",\"11.71\",\"0\",\"Aug-1999\",\"0\",\"60\",\"\",\"9\",\"0\",\"669\",\"4.3%\",\"38\",\"w\",\"0.00\",\"0.00\",\"15428.2167643691\",\"15428.22\",\"15000.00\",\"428.22\",\"0.0\",\"0.0\",\"0.0\",\"Jan-2019\",\"14022.6\",\"\",\"Nov-2019\",\"0\",\"\",\"1\",\"Individual\",\"\",\"\",\"\",\"0\",\"0\",\"65307\",\"1\",\"4\",\"1\",\"3\",\"2\",\"62691\",\"63\",\"0\",\"1\",\"200\",\"53\",\"15700\",\"1\",\"2\",\"0\",\"4\",\"7256\",\"7000\",\"2.8\",\"0\",\"0\",\"229\",\"201\",\"23\",\"2\",\"2\",\"23\",\"60\",\"17\",\"60\",\"0\",\"1\",\"2\",\"1\",\"7\",\"15\",\"4\",\"20\",\"2\",\"9\",\"0\",\"0\",\"0\",\"1\",\"92.1\",\"0\",\"0\",\"0\",\"141168\",\"65307\",\"7200\",\"120000\",\"\",\"\",\"\",\"\",\"\",\"\",\"\",\"\",\"\",\"\",\"\",\"N\",\"\",\"\",\"\",\"\",\"\",\"\",\"\",\"\",\"\",\"\",\"\",\"\",\"\",\"\",\"N\",\"\",\"\",\"\",\"\",\"\",\"\"\n",
            "\"\",\"\",\"20000\",\"20000\",\"20000\",\" 60 months\",\" 12.73%\",\"452.31\",\"B\",\"B5\",\"Child Protective Specialist\",\"10+ years\",\"RENT\",\"69000\",\"Source Verified\",\"Sep-2018\",\"Current\",\"n\",\"\",\"\",\"debt_consolidation\",\"Debt consolidation\",\"111xx\",\"NY\",\"23.81\",\"0\",\"Dec-2002\",\"1\",\"\",\"\",\"15\",\"0\",\"13251\",\"18.7%\",\"27\",\"w\",\"16396.04\",\"16396.04\",\"6304.05\",\"6304.05\",\"3603.96\",\"2700.09\",\"0.0\",\"0.0\",\"0.0\",\"Nov-2019\",\"452.31\",\"Dec-2019\",\"Nov-2019\",\"0\",\"\",\"1\",\"Individual\",\"\",\"\",\"\",\"0\",\"0\",\"56321\",\"0\",\"8\",\"1\",\"3\",\"10\",\"43070\",\"73\",\"0\",\"1\",\"13187\",\"43\",\"71000\",\"1\",\"1\",\"2\",\"4\",\"3755\",\"56449\",\"19\",\"0\",\"0\",\"140\",\"189\",\"13\",\"10\",\"0\",\"13\",\"\",\"1\",\"\",\"0\",\"2\",\"2\",\"6\",\"10\",\"13\",\"7\",\"14\",\"2\",\"15\",\"0\",\"0\",\"0\",\"1\",\"100\",\"16.7\",\"0\",\"0\",\"130321\",\"56321\",\"69700\",\"59321\",\"\",\"\",\"\",\"\",\"\",\"\",\"\",\"\",\"\",\"\",\"\",\"N\",\"\",\"\",\"\",\"\",\"\",\"\",\"\",\"\",\"\",\"\",\"\",\"\",\"\",\"\",\"N\",\"\",\"\",\"\",\"\",\"\",\"\"\n",
            "\"\",\"\",\"29000\",\"29000\",\"29000\",\" 36 months\",\" 11.55%\",\"957\",\"B\",\"B4\",\"Sales Manager\",\"8 years\",\"MORTGAGE\",\"110000\",\"Source Verified\",\"Sep-2018\",\"Current\",\"n\",\"\",\"\",\"debt_consolidation\",\"Debt consolidation\",\"462xx\",\"IN\",\"17.9\",\"1\",\"Dec-1994\",\"2\",\"14\",\"\",\"13\",\"0\",\"49387\",\"59.2%\",\"35\",\"w\",\"18892.54\",\"18892.54\",\"13360.78\",\"13360.78\",\"10107.46\",\"3253.32\",\"0.0\",\"0.0\",\"0.0\",\"Nov-2019\",\"957.0\",\"Dec-2019\",\"Nov-2019\",\"0\",\"14\",\"1\",\"Individual\",\"\",\"\",\"\",\"0\",\"0\",\"334446\",\"2\",\"3\",\"0\",\"0\",\"27\",\"16945\",\"66\",\"2\",\"2\",\"22866\",\"61\",\"83400\",\"0\",\"1\",\"2\",\"4\",\"25727\",\"18384\",\"71.2\",\"0\",\"0\",\"217\",\"285\",\"2\",\"2\",\"6\",\"2\",\"\",\"2\",\"\",\"1\",\"3\",\"4\",\"5\",\"9\",\"16\",\"9\",\"13\",\"4\",\"13\",\"0\",\"0\",\"1\",\"2\",\"97.1\",\"40\",\"0\",\"0\",\"417298\",\"66332\",\"63900\",\"60327\",\"\",\"\",\"\",\"\",\"\",\"\",\"\",\"\",\"\",\"\",\"\",\"N\",\"\",\"\",\"\",\"\",\"\",\"\",\"\",\"\",\"\",\"\",\"\",\"\",\"\",\"\",\"N\",\"\",\"\",\"\",\"\",\"\",\"\"\n",
            "\"\",\"\",\"5500\",\"5500\",\"5500\",\" 36 months\",\"  6.67%\",\"169\",\"A\",\"A2\",\"Interpreter\",\"6 years\",\"RENT\",\"59000\",\"Source Verified\",\"Sep-2018\",\"Fully Paid\",\"n\",\"\",\"\",\"debt_consolidation\",\"Debt consolidation\",\"454xx\",\"OH\",\"12.45\",\"0\",\"Apr-1988\",\"0\",\"52\",\"\",\"13\",\"0\",\"4355\",\"17.3%\",\"59\",\"w\",\"0.00\",\"0.00\",\"5575.9240472692\",\"5575.92\",\"5500.00\",\"75.92\",\"0.0\",\"0.0\",\"0.0\",\"Dec-2018\",\"25.01\",\"\",\"Oct-2019\",\"0\",\"\",\"1\",\"Individual\",\"\",\"\",\"\",\"0\",\"0\",\"40893\",\"3\",\"2\",\"2\",\"5\",\"4\",\"36538\",\"97\",\"2\",\"6\",\"609\",\"65\",\"25200\",\"3\",\"5\",\"5\",\"11\",\"3408\",\"2391\",\"20.3\",\"0\",\"0\",\"150\",\"365\",\"2\",\"2\",\"1\",\"80\",\"\",\"5\",\"52\",\"0\",\"1\",\"6\",\"1\",\"12\",\"12\",\"10\",\"45\",\"6\",\"13\",\"0\",\"0\",\"0\",\"4\",\"100\",\"0\",\"0\",\"0\",\"62961\",\"40893\",\"3000\",\"37761\",\"\",\"\",\"\",\"\",\"\",\"\",\"\",\"\",\"\",\"\",\"\",\"N\",\"\",\"\",\"\",\"\",\"\",\"\",\"\",\"\",\"\",\"\",\"\",\"\",\"\",\"\",\"N\",\"\",\"\",\"\",\"\",\"\",\"\"\n",
            "\"\",\"\",\"2100\",\"2100\",\"2100\",\" 36 months\",\" 11.55%\",\"69.3\",\"B\",\"B4\",\"Accounting\",\"1 year\",\"RENT\",\"60000\",\"Source Verified\",\"Sep-2018\",\"Current\",\"n\",\"\",\"\",\"debt_consolidation\",\"Debt consolidation\",\"981xx\",\"WA\",\"14.9\",\"0\",\"Sep-2003\",\"0\",\"\",\"\",\"16\",\"0\",\"14346\",\"32.9%\",\"24\",\"w\",\"1368.08\",\"1368.08\",\"967.5\",\"967.50\",\"731.92\",\"235.58\",\"0.0\",\"0.0\",\"0.0\",\"Nov-2019\",\"69.3\",\"Dec-2019\",\"Nov-2019\",\"0\",\"\",\"1\",\"Individual\",\"\",\"\",\"\",\"0\",\"428\",\"25641\",\"2\",\"2\",\"1\",\"1\",\"8\",\"11295\",\"48\",\"3\",\"6\",\"11278\",\"38\",\"43600\",\"1\",\"0\",\"1\",\"7\",\"1709\",\"21218\",\"39.9\",\"0\",\"0\",\"146\",\"180\",\"3\",\"3\",\"0\",\"3\",\"\",\"8\",\"\",\"0\",\"6\",\"7\",\"8\",\"10\",\"6\",\"13\",\"17\",\"7\",\"16\",\"0\",\"0\",\"0\",\"4\",\"100\",\"37.5\",\"0\",\"0\",\"67136\",\"25641\",\"35300\",\"23536\",\"\",\"\",\"\",\"\",\"\",\"\",\"\",\"\",\"\",\"\",\"\",\"N\",\"\",\"\",\"\",\"\",\"\",\"\",\"\",\"\",\"\",\"\",\"\",\"\",\"\",\"\",\"N\",\"\",\"\",\"\",\"\",\"\",\"\"\n",
            "\"\",\"\",\"16000\",\"16000\",\"16000\",\" 36 months\",\"  6.11%\",\"487.55\",\"A\",\"A1\",\"Program Manager \",\"5 years\",\"MORTGAGE\",\"130000\",\"Source Verified\",\"Sep-2018\",\"Current\",\"n\",\"\",\"\",\"debt_consolidation\",\"Debt consolidation\",\"894xx\",\"NV\",\"21.29\",\"1\",\"Aug-1996\",\"0\",\"9\",\"\",\"13\",\"0\",\"45852\",\"96.1%\",\"27\",\"w\",\"10556.58\",\"10556.58\",\"6362.6\",\"6362.60\",\"5443.42\",\"919.18\",\"0.0\",\"0.0\",\"0.0\",\"Nov-2019\",\"487.55\",\"Dec-2019\",\"Nov-2019\",\"0\",\"\",\"1\",\"Individual\",\"\",\"\",\"\",\"0\",\"0\",\"478638\",\"0\",\"2\",\"0\",\"1\",\"18\",\"17227\",\"35\",\"0\",\"0\",\"8160\",\"65\",\"47700\",\"0\",\"7\",\"2\",\"1\",\"36818\",\"274\",\"98.8\",\"0\",\"0\",\"66\",\"265\",\"88\",\"18\",\"7\",\"88\",\"\",\"0\",\"\",\"0\",\"6\",\"8\",\"6\",\"11\",\"5\",\"8\",\"15\",\"8\",\"13\",\"0\",\"0\",\"0\",\"0\",\"96.3\",\"100\",\"0\",\"0\",\"597915\",\"63079\",\"23700\",\"49215\",\"\",\"\",\"\",\"\",\"\",\"\",\"\",\"\",\"\",\"\",\"\",\"N\",\"\",\"\",\"\",\"\",\"\",\"\",\"\",\"\",\"\",\"\",\"\",\"\",\"\",\"\",\"N\",\"\",\"\",\"\",\"\",\"\",\"\"\n"
          ],
          "name": "stdout"
        }
      ]
    },
    {
      "cell_type": "code",
      "metadata": {
        "colab_type": "code",
        "id": "KUSHRmUBTuRu",
        "outputId": "55053ed2-50e9-4c4e-b772-40c0b8f1e9cb",
        "colab": {
          "base_uri": "https://localhost:8080/",
          "height": 210
        }
      },
      "source": [
        "!tail LoanStats_2018Q3.csv"
      ],
      "execution_count": 4,
      "outputs": [
        {
          "output_type": "stream",
          "text": [
            "\"\",\"\",\"5000\",\"5000\",\"5000\",\" 36 months\",\" 16.46%\",\"176.93\",\"C\",\"C5\",\"Labor Worker\",\"3 years\",\"MORTGAGE\",\"57000\",\"Not Verified\",\"Jul-2018\",\"Current\",\"n\",\"\",\"\",\"debt_consolidation\",\"Debt consolidation\",\"781xx\",\"TX\",\"33.09\",\"0\",\"Jul-2008\",\"0\",\"25\",\"\",\"11\",\"0\",\"7449\",\"41.4%\",\"47\",\"w\",\"3076.17\",\"3076.17\",\"2821.74\",\"2821.74\",\"1923.83\",\"897.91\",\"0.0\",\"0.0\",\"0.0\",\"Nov-2019\",\"176.93\",\"Dec-2019\",\"Nov-2019\",\"0\",\"\",\"1\",\"Individual\",\"\",\"\",\"\",\"0\",\"236\",\"45088\",\"1\",\"5\",\"3\",\"4\",\"7\",\"37639\",\"58\",\"1\",\"2\",\"0\",\"54\",\"18000\",\"3\",\"10\",\"1\",\"6\",\"4099\",\"\",\"\",\"0\",\"0\",\"119\",\"80\",\"1\",\"1\",\"0\",\"\",\"\",\"8\",\"25\",\"0\",\"0\",\"4\",\"0\",\"1\",\"39\",\"6\",\"8\",\"4\",\"11\",\"0\",\"0\",\"0\",\"4\",\"93.6\",\"\",\"0\",\"0\",\"83496\",\"45088\",\"0\",\"65496\",\"\",\"\",\"\",\"\",\"\",\"\",\"\",\"\",\"\",\"\",\"\",\"N\",\"\",\"\",\"\",\"\",\"\",\"\",\"\",\"\",\"\",\"\",\"\",\"\",\"\",\"\",\"N\",\"\",\"\",\"\",\"\",\"\",\"\"\n",
            "\"\",\"\",\"12000\",\"12000\",\"12000\",\" 36 months\",\" 14.03%\",\"410.31\",\"C\",\"C2\",\"Medical Support Staff\",\"10+ years\",\"OWN\",\"53414\",\"Source Verified\",\"Jul-2018\",\"Current\",\"n\",\"\",\"\",\"home_improvement\",\"Home improvement\",\"136xx\",\"NY\",\"25.68\",\"0\",\"Mar-1997\",\"0\",\"\",\"\",\"8\",\"0\",\"6527\",\"44.4%\",\"20\",\"w\",\"7279.54\",\"7279.54\",\"6550.93\",\"6550.93\",\"4720.46\",\"1830.47\",\"0.0\",\"0.0\",\"0.0\",\"Nov-2019\",\"410.31\",\"Dec-2019\",\"Nov-2019\",\"0\",\"\",\"1\",\"Individual\",\"\",\"\",\"\",\"0\",\"0\",\"29869\",\"0\",\"2\",\"0\",\"2\",\"13\",\"23342\",\"73\",\"0\",\"0\",\"3977\",\"64\",\"14700\",\"1\",\"1\",\"0\",\"2\",\"3734\",\"7173\",\"47.6\",\"0\",\"0\",\"139\",\"255\",\"42\",\"13\",\"0\",\"66\",\"\",\"18\",\"\",\"0\",\"2\",\"2\",\"5\",\"9\",\"8\",\"6\",\"12\",\"2\",\"8\",\"0\",\"0\",\"0\",\"0\",\"100\",\"40\",\"0\",\"0\",\"46792\",\"29869\",\"13700\",\"32092\",\"\",\"\",\"\",\"\",\"\",\"\",\"\",\"\",\"\",\"\",\"\",\"N\",\"\",\"\",\"\",\"\",\"\",\"\",\"\",\"\",\"\",\"\",\"\",\"\",\"\",\"\",\"N\",\"\",\"\",\"\",\"\",\"\",\"\"\n",
            "\"\",\"\",\"5000\",\"5000\",\"5000\",\" 36 months\",\"  6.19%\",\"152.55\",\"A\",\"A2\",\"Host/cashier\",\"4 years\",\"RENT\",\"22000\",\"Not Verified\",\"Jul-2018\",\"Current\",\"n\",\"\",\"\",\"credit_card\",\"Credit card refinancing\",\"731xx\",\"OK\",\"11.67\",\"0\",\"Apr-2001\",\"0\",\"\",\"\",\"6\",\"0\",\"7118\",\"23.3%\",\"19\",\"w\",\"2891.48\",\"2891.48\",\"2437.36\",\"2437.36\",\"2108.52\",\"328.84\",\"0.0\",\"0.0\",\"0.0\",\"Nov-2019\",\"152.55\",\"Dec-2019\",\"Nov-2019\",\"0\",\"\",\"1\",\"Individual\",\"\",\"\",\"\",\"0\",\"0\",\"7118\",\"1\",\"0\",\"0\",\"0\",\"127\",\"0\",\"\",\"1\",\"1\",\"3841\",\"23\",\"30500\",\"1\",\"0\",\"0\",\"1\",\"1186\",\"23382\",\"23.3\",\"0\",\"0\",\"168\",\"206\",\"3\",\"3\",\"0\",\"3\",\"\",\"17\",\"\",\"0\",\"3\",\"3\",\"6\",\"10\",\"4\",\"6\",\"15\",\"3\",\"6\",\"0\",\"0\",\"0\",\"1\",\"100\",\"0\",\"0\",\"0\",\"30500\",\"7118\",\"30500\",\"0\",\"\",\"\",\"\",\"\",\"\",\"\",\"\",\"\",\"\",\"\",\"\",\"N\",\"\",\"\",\"\",\"\",\"\",\"\",\"\",\"\",\"\",\"\",\"\",\"\",\"\",\"\",\"N\",\"\",\"\",\"\",\"\",\"\",\"\"\n",
            "\"\",\"\",\"10000\",\"10000\",\"10000\",\" 36 months\",\" 11.05%\",\"327.63\",\"B\",\"B4\",\"Operator\",\"5 years\",\"RENT\",\"60000\",\"Not Verified\",\"Jul-2018\",\"Fully Paid\",\"n\",\"\",\"\",\"credit_card\",\"Credit card refinancing\",\"952xx\",\"CA\",\"10.72\",\"0\",\"Apr-2015\",\"0\",\"27\",\"\",\"8\",\"0\",\"2301\",\"28.1%\",\"12\",\"w\",\"0.00\",\"0.00\",\"10761.5354030672\",\"10761.54\",\"10000.00\",\"761.54\",\"0.0\",\"0.0\",\"0.0\",\"Apr-2019\",\"8149.71\",\"\",\"Apr-2019\",\"0\",\"27\",\"1\",\"Individual\",\"\",\"\",\"\",\"0\",\"0\",\"9572\",\"0\",\"2\",\"1\",\"1\",\"12\",\"7271\",\"60\",\"3\",\"4\",\"1624\",\"47\",\"8200\",\"0\",\"0\",\"1\",\"5\",\"1197\",\"3099\",\"42.6\",\"0\",\"0\",\"34\",\"38\",\"9\",\"9\",\"0\",\"11\",\"\",\"9\",\"\",\"1\",\"3\",\"3\",\"5\",\"6\",\"3\",\"6\",\"8\",\"3\",\"8\",\"0\",\"0\",\"0\",\"4\",\"100\",\"20\",\"0\",\"0\",\"20377\",\"9572\",\"5400\",\"12177\",\"\",\"\",\"\",\"\",\"\",\"\",\"\",\"\",\"\",\"\",\"\",\"N\",\"\",\"\",\"\",\"\",\"\",\"\",\"\",\"\",\"\",\"\",\"\",\"\",\"\",\"\",\"N\",\"\",\"\",\"\",\"\",\"\",\"\"\n",
            "\"\",\"\",\"20000\",\"20000\",\"20000\",\" 36 months\",\" 15.49%\",\"698.12\",\"C\",\"C4\",\"Client manager\",\"10+ years\",\"MORTGAGE\",\"80000\",\"Verified\",\"Jul-2018\",\"Fully Paid\",\"n\",\"\",\"\",\"debt_consolidation\",\"Debt consolidation\",\"913xx\",\"CA\",\"22.14\",\"0\",\"Apr-1994\",\"0\",\"43\",\"\",\"27\",\"0\",\"28994\",\"63%\",\"47\",\"w\",\"0.00\",\"0.00\",\"22361.874490153\",\"22361.87\",\"20000.00\",\"2361.87\",\"0.0\",\"0.0\",\"0.0\",\"May-2019\",\"16113.21\",\"\",\"Oct-2019\",\"0\",\"43\",\"1\",\"Individual\",\"\",\"\",\"\",\"0\",\"0\",\"314886\",\"0\",\"1\",\"0\",\"0\",\"37\",\"15336\",\"61\",\"1\",\"9\",\"5067\",\"64\",\"46000\",\"1\",\"6\",\"0\",\"10\",\"11662\",\"3359\",\"83.8\",\"0\",\"0\",\"129\",\"186\",\"10\",\"10\",\"3\",\"10\",\"43\",\"13\",\"43\",\"3\",\"8\",\"22\",\"8\",\"15\",\"6\",\"24\",\"36\",\"22\",\"27\",\"0\",\"0\",\"0\",\"1\",\"93.6\",\"75\",\"0\",\"0\",\"349879\",\"47229\",\"20700\",\"25295\",\"\",\"\",\"\",\"\",\"\",\"\",\"\",\"\",\"\",\"\",\"\",\"N\",\"\",\"\",\"\",\"\",\"\",\"\",\"\",\"\",\"\",\"\",\"\",\"\",\"\",\"\",\"N\",\"\",\"\",\"\",\"\",\"\",\"\"\n",
            "\"\",\"\",\"4000\",\"4000\",\"4000\",\" 36 months\",\" 16.46%\",\"141.54\",\"C\",\"C5\",\"jewelry\",\"5 years\",\"RENT\",\"9600\",\"Source Verified\",\"Jul-2018\",\"Current\",\"n\",\"\",\"\",\"debt_consolidation\",\"Debt consolidation\",\"925xx\",\"CA\",\"14.5\",\"1\",\"Nov-2014\",\"0\",\"15\",\"\",\"5\",\"0\",\"3545\",\"45.4%\",\"5\",\"w\",\"2479.23\",\"2479.23\",\"2257.32\",\"2257.32\",\"1520.77\",\"736.55\",\"0.0\",\"0.0\",\"0.0\",\"Nov-2019\",\"141.54\",\"Dec-2019\",\"Nov-2019\",\"0\",\"\",\"1\",\"Individual\",\"\",\"\",\"\",\"0\",\"0\",\"3545\",\"1\",\"0\",\"0\",\"0\",\"\",\"0\",\"\",\"1\",\"2\",\"1515\",\"45\",\"7800\",\"0\",\"0\",\"0\",\"2\",\"709\",\"285\",\"84.2\",\"0\",\"0\",\"\",\"43\",\"1\",\"1\",\"0\",\"33\",\"\",\"\",\"15\",\"0\",\"1\",\"3\",\"1\",\"1\",\"0\",\"5\",\"5\",\"3\",\"5\",\"0\",\"0\",\"0\",\"1\",\"80\",\"100\",\"0\",\"0\",\"7800\",\"3545\",\"1800\",\"0\",\"\",\"\",\"\",\"\",\"\",\"\",\"\",\"\",\"\",\"\",\"\",\"N\",\"\",\"\",\"\",\"\",\"\",\"\",\"\",\"\",\"\",\"\",\"\",\"\",\"\",\"\",\"N\",\"\",\"\",\"\",\"\",\"\",\"\"\n",
            "\n",
            "\n",
            "Total amount funded in policy code 1: 2063142975\n",
            "Total amount funded in policy code 2: 823319310\n"
          ],
          "name": "stdout"
        }
      ]
    },
    {
      "cell_type": "markdown",
      "metadata": {
        "colab_type": "text",
        "id": "3nAIRCZdofrY"
      },
      "source": [
        "## Load LendingClub data"
      ]
    },
    {
      "cell_type": "markdown",
      "metadata": {
        "colab_type": "text",
        "id": "6GJn0y0D59sF"
      },
      "source": [
        "pandas documentation\n",
        "- [`read_csv`](https://pandas.pydata.org/pandas-docs/stable/generated/pandas.read_csv.html)\n",
        "- [`options.display`](https://pandas.pydata.org/pandas-docs/stable/options.html#available-options)"
      ]
    },
    {
      "cell_type": "code",
      "metadata": {
        "colab_type": "code",
        "id": "3-8Vn3y6ooBC",
        "outputId": "2e9caa2a-3c08-4b56-b255-df4552507fed",
        "colab": {
          "base_uri": "https://localhost:8080/",
          "height": 89
        }
      },
      "source": [
        "import pandas as pd\n",
        "\n",
        "df = pd.read_csv('LoanStats_2018Q3.csv', skiprows=1, skipfooter=2)\n",
        "\n",
        "df.shape"
      ],
      "execution_count": 5,
      "outputs": [
        {
          "output_type": "stream",
          "text": [
            "/usr/local/lib/python3.6/dist-packages/ipykernel_launcher.py:3: ParserWarning: Falling back to the 'python' engine because the 'c' engine does not support skipfooter; you can avoid this warning by specifying engine='python'.\n",
            "  This is separate from the ipykernel package so we can avoid doing imports until\n"
          ],
          "name": "stderr"
        },
        {
          "output_type": "execute_result",
          "data": {
            "text/plain": [
              "(128194, 144)"
            ]
          },
          "metadata": {
            "tags": []
          },
          "execution_count": 5
        }
      ]
    },
    {
      "cell_type": "code",
      "metadata": {
        "colab_type": "code",
        "id": "naqWg3C81Xlh",
        "outputId": "9f2a2c22-93ba-456c-89ee-38829dbffe9e",
        "colab": {
          "base_uri": "https://localhost:8080/",
          "height": 1000
        }
      },
      "source": [
        "pd.options.display.max_columns = 500\n",
        "pd.options.display.max_rows = 500\n",
        "df.head().T"
      ],
      "execution_count": 6,
      "outputs": [
        {
          "output_type": "execute_result",
          "data": {
            "text/html": [
              "<div>\n",
              "<style scoped>\n",
              "    .dataframe tbody tr th:only-of-type {\n",
              "        vertical-align: middle;\n",
              "    }\n",
              "\n",
              "    .dataframe tbody tr th {\n",
              "        vertical-align: top;\n",
              "    }\n",
              "\n",
              "    .dataframe thead th {\n",
              "        text-align: right;\n",
              "    }\n",
              "</style>\n",
              "<table border=\"1\" class=\"dataframe\">\n",
              "  <thead>\n",
              "    <tr style=\"text-align: right;\">\n",
              "      <th></th>\n",
              "      <th>0</th>\n",
              "      <th>1</th>\n",
              "      <th>2</th>\n",
              "      <th>3</th>\n",
              "      <th>4</th>\n",
              "    </tr>\n",
              "  </thead>\n",
              "  <tbody>\n",
              "    <tr>\n",
              "      <th>id</th>\n",
              "      <td>NaN</td>\n",
              "      <td>NaN</td>\n",
              "      <td>NaN</td>\n",
              "      <td>NaN</td>\n",
              "      <td>NaN</td>\n",
              "    </tr>\n",
              "    <tr>\n",
              "      <th>member_id</th>\n",
              "      <td>NaN</td>\n",
              "      <td>NaN</td>\n",
              "      <td>NaN</td>\n",
              "      <td>NaN</td>\n",
              "      <td>NaN</td>\n",
              "    </tr>\n",
              "    <tr>\n",
              "      <th>loan_amnt</th>\n",
              "      <td>9000</td>\n",
              "      <td>29000</td>\n",
              "      <td>15000</td>\n",
              "      <td>20000</td>\n",
              "      <td>29000</td>\n",
              "    </tr>\n",
              "    <tr>\n",
              "      <th>funded_amnt</th>\n",
              "      <td>9000</td>\n",
              "      <td>29000</td>\n",
              "      <td>15000</td>\n",
              "      <td>20000</td>\n",
              "      <td>29000</td>\n",
              "    </tr>\n",
              "    <tr>\n",
              "      <th>funded_amnt_inv</th>\n",
              "      <td>9000</td>\n",
              "      <td>29000</td>\n",
              "      <td>15000</td>\n",
              "      <td>20000</td>\n",
              "      <td>29000</td>\n",
              "    </tr>\n",
              "    <tr>\n",
              "      <th>term</th>\n",
              "      <td>36 months</td>\n",
              "      <td>36 months</td>\n",
              "      <td>36 months</td>\n",
              "      <td>60 months</td>\n",
              "      <td>36 months</td>\n",
              "    </tr>\n",
              "    <tr>\n",
              "      <th>int_rate</th>\n",
              "      <td>15.02%</td>\n",
              "      <td>10.08%</td>\n",
              "      <td>8.46%</td>\n",
              "      <td>12.73%</td>\n",
              "      <td>11.55%</td>\n",
              "    </tr>\n",
              "    <tr>\n",
              "      <th>installment</th>\n",
              "      <td>312.08</td>\n",
              "      <td>936.84</td>\n",
              "      <td>473.24</td>\n",
              "      <td>452.31</td>\n",
              "      <td>957</td>\n",
              "    </tr>\n",
              "    <tr>\n",
              "      <th>grade</th>\n",
              "      <td>C</td>\n",
              "      <td>B</td>\n",
              "      <td>A</td>\n",
              "      <td>B</td>\n",
              "      <td>B</td>\n",
              "    </tr>\n",
              "    <tr>\n",
              "      <th>sub_grade</th>\n",
              "      <td>C3</td>\n",
              "      <td>B1</td>\n",
              "      <td>A5</td>\n",
              "      <td>B5</td>\n",
              "      <td>B4</td>\n",
              "    </tr>\n",
              "    <tr>\n",
              "      <th>emp_title</th>\n",
              "      <td>buyer</td>\n",
              "      <td>Attorney</td>\n",
              "      <td>NaN</td>\n",
              "      <td>Child Protective Specialist</td>\n",
              "      <td>Sales Manager</td>\n",
              "    </tr>\n",
              "    <tr>\n",
              "      <th>emp_length</th>\n",
              "      <td>10+ years</td>\n",
              "      <td>9 years</td>\n",
              "      <td>&lt; 1 year</td>\n",
              "      <td>10+ years</td>\n",
              "      <td>8 years</td>\n",
              "    </tr>\n",
              "    <tr>\n",
              "      <th>home_ownership</th>\n",
              "      <td>MORTGAGE</td>\n",
              "      <td>RENT</td>\n",
              "      <td>RENT</td>\n",
              "      <td>RENT</td>\n",
              "      <td>MORTGAGE</td>\n",
              "    </tr>\n",
              "    <tr>\n",
              "      <th>annual_inc</th>\n",
              "      <td>90000</td>\n",
              "      <td>123000</td>\n",
              "      <td>144898</td>\n",
              "      <td>69000</td>\n",
              "      <td>110000</td>\n",
              "    </tr>\n",
              "    <tr>\n",
              "      <th>verification_status</th>\n",
              "      <td>Source Verified</td>\n",
              "      <td>Not Verified</td>\n",
              "      <td>Not Verified</td>\n",
              "      <td>Source Verified</td>\n",
              "      <td>Source Verified</td>\n",
              "    </tr>\n",
              "    <tr>\n",
              "      <th>issue_d</th>\n",
              "      <td>Sep-2018</td>\n",
              "      <td>Sep-2018</td>\n",
              "      <td>Sep-2018</td>\n",
              "      <td>Sep-2018</td>\n",
              "      <td>Sep-2018</td>\n",
              "    </tr>\n",
              "    <tr>\n",
              "      <th>loan_status</th>\n",
              "      <td>Current</td>\n",
              "      <td>Current</td>\n",
              "      <td>Fully Paid</td>\n",
              "      <td>Current</td>\n",
              "      <td>Current</td>\n",
              "    </tr>\n",
              "    <tr>\n",
              "      <th>pymnt_plan</th>\n",
              "      <td>n</td>\n",
              "      <td>n</td>\n",
              "      <td>n</td>\n",
              "      <td>n</td>\n",
              "      <td>n</td>\n",
              "    </tr>\n",
              "    <tr>\n",
              "      <th>url</th>\n",
              "      <td>NaN</td>\n",
              "      <td>NaN</td>\n",
              "      <td>NaN</td>\n",
              "      <td>NaN</td>\n",
              "      <td>NaN</td>\n",
              "    </tr>\n",
              "    <tr>\n",
              "      <th>desc</th>\n",
              "      <td>NaN</td>\n",
              "      <td>NaN</td>\n",
              "      <td>NaN</td>\n",
              "      <td>NaN</td>\n",
              "      <td>NaN</td>\n",
              "    </tr>\n",
              "    <tr>\n",
              "      <th>purpose</th>\n",
              "      <td>other</td>\n",
              "      <td>credit_card</td>\n",
              "      <td>debt_consolidation</td>\n",
              "      <td>debt_consolidation</td>\n",
              "      <td>debt_consolidation</td>\n",
              "    </tr>\n",
              "    <tr>\n",
              "      <th>title</th>\n",
              "      <td>Other</td>\n",
              "      <td>Credit card refinancing</td>\n",
              "      <td>Debt consolidation</td>\n",
              "      <td>Debt consolidation</td>\n",
              "      <td>Debt consolidation</td>\n",
              "    </tr>\n",
              "    <tr>\n",
              "      <th>zip_code</th>\n",
              "      <td>018xx</td>\n",
              "      <td>191xx</td>\n",
              "      <td>077xx</td>\n",
              "      <td>111xx</td>\n",
              "      <td>462xx</td>\n",
              "    </tr>\n",
              "    <tr>\n",
              "      <th>addr_state</th>\n",
              "      <td>MA</td>\n",
              "      <td>PA</td>\n",
              "      <td>NJ</td>\n",
              "      <td>NY</td>\n",
              "      <td>IN</td>\n",
              "    </tr>\n",
              "    <tr>\n",
              "      <th>dti</th>\n",
              "      <td>10.81</td>\n",
              "      <td>27.73</td>\n",
              "      <td>11.71</td>\n",
              "      <td>23.81</td>\n",
              "      <td>17.9</td>\n",
              "    </tr>\n",
              "    <tr>\n",
              "      <th>delinq_2yrs</th>\n",
              "      <td>0</td>\n",
              "      <td>0</td>\n",
              "      <td>0</td>\n",
              "      <td>0</td>\n",
              "      <td>1</td>\n",
              "    </tr>\n",
              "    <tr>\n",
              "      <th>earliest_cr_line</th>\n",
              "      <td>Jul-2010</td>\n",
              "      <td>May-2006</td>\n",
              "      <td>Aug-1999</td>\n",
              "      <td>Dec-2002</td>\n",
              "      <td>Dec-1994</td>\n",
              "    </tr>\n",
              "    <tr>\n",
              "      <th>inq_last_6mths</th>\n",
              "      <td>1</td>\n",
              "      <td>0</td>\n",
              "      <td>0</td>\n",
              "      <td>1</td>\n",
              "      <td>2</td>\n",
              "    </tr>\n",
              "    <tr>\n",
              "      <th>mths_since_last_delinq</th>\n",
              "      <td>NaN</td>\n",
              "      <td>NaN</td>\n",
              "      <td>60</td>\n",
              "      <td>NaN</td>\n",
              "      <td>14</td>\n",
              "    </tr>\n",
              "    <tr>\n",
              "      <th>mths_since_last_record</th>\n",
              "      <td>NaN</td>\n",
              "      <td>NaN</td>\n",
              "      <td>NaN</td>\n",
              "      <td>NaN</td>\n",
              "      <td>NaN</td>\n",
              "    </tr>\n",
              "    <tr>\n",
              "      <th>open_acc</th>\n",
              "      <td>7</td>\n",
              "      <td>12</td>\n",
              "      <td>9</td>\n",
              "      <td>15</td>\n",
              "      <td>13</td>\n",
              "    </tr>\n",
              "    <tr>\n",
              "      <th>pub_rec</th>\n",
              "      <td>0</td>\n",
              "      <td>0</td>\n",
              "      <td>0</td>\n",
              "      <td>0</td>\n",
              "      <td>0</td>\n",
              "    </tr>\n",
              "    <tr>\n",
              "      <th>revol_bal</th>\n",
              "      <td>28814</td>\n",
              "      <td>50905</td>\n",
              "      <td>669</td>\n",
              "      <td>13251</td>\n",
              "      <td>49387</td>\n",
              "    </tr>\n",
              "    <tr>\n",
              "      <th>revol_util</th>\n",
              "      <td>65.5%</td>\n",
              "      <td>79%</td>\n",
              "      <td>4.3%</td>\n",
              "      <td>18.7%</td>\n",
              "      <td>59.2%</td>\n",
              "    </tr>\n",
              "    <tr>\n",
              "      <th>total_acc</th>\n",
              "      <td>8</td>\n",
              "      <td>26</td>\n",
              "      <td>38</td>\n",
              "      <td>27</td>\n",
              "      <td>35</td>\n",
              "    </tr>\n",
              "    <tr>\n",
              "      <th>initial_list_status</th>\n",
              "      <td>w</td>\n",
              "      <td>w</td>\n",
              "      <td>w</td>\n",
              "      <td>w</td>\n",
              "      <td>w</td>\n",
              "    </tr>\n",
              "    <tr>\n",
              "      <th>out_prncp</th>\n",
              "      <td>5969.05</td>\n",
              "      <td>18746.5</td>\n",
              "      <td>0</td>\n",
              "      <td>16396</td>\n",
              "      <td>18892.5</td>\n",
              "    </tr>\n",
              "    <tr>\n",
              "      <th>out_prncp_inv</th>\n",
              "      <td>5969.05</td>\n",
              "      <td>18746.5</td>\n",
              "      <td>0</td>\n",
              "      <td>16396</td>\n",
              "      <td>18892.5</td>\n",
              "    </tr>\n",
              "    <tr>\n",
              "      <th>total_pymnt</th>\n",
              "      <td>4354.1</td>\n",
              "      <td>13083.3</td>\n",
              "      <td>15428.2</td>\n",
              "      <td>6304.05</td>\n",
              "      <td>13360.8</td>\n",
              "    </tr>\n",
              "    <tr>\n",
              "      <th>total_pymnt_inv</th>\n",
              "      <td>4354.1</td>\n",
              "      <td>13083.3</td>\n",
              "      <td>15428.2</td>\n",
              "      <td>6304.05</td>\n",
              "      <td>13360.8</td>\n",
              "    </tr>\n",
              "    <tr>\n",
              "      <th>total_rec_prncp</th>\n",
              "      <td>3030.95</td>\n",
              "      <td>10253.5</td>\n",
              "      <td>15000</td>\n",
              "      <td>3603.96</td>\n",
              "      <td>10107.5</td>\n",
              "    </tr>\n",
              "    <tr>\n",
              "      <th>total_rec_int</th>\n",
              "      <td>1323.15</td>\n",
              "      <td>2829.78</td>\n",
              "      <td>428.22</td>\n",
              "      <td>2700.09</td>\n",
              "      <td>3253.32</td>\n",
              "    </tr>\n",
              "    <tr>\n",
              "      <th>total_rec_late_fee</th>\n",
              "      <td>0</td>\n",
              "      <td>0</td>\n",
              "      <td>0</td>\n",
              "      <td>0</td>\n",
              "      <td>0</td>\n",
              "    </tr>\n",
              "    <tr>\n",
              "      <th>recoveries</th>\n",
              "      <td>0</td>\n",
              "      <td>0</td>\n",
              "      <td>0</td>\n",
              "      <td>0</td>\n",
              "      <td>0</td>\n",
              "    </tr>\n",
              "    <tr>\n",
              "      <th>collection_recovery_fee</th>\n",
              "      <td>0</td>\n",
              "      <td>0</td>\n",
              "      <td>0</td>\n",
              "      <td>0</td>\n",
              "      <td>0</td>\n",
              "    </tr>\n",
              "    <tr>\n",
              "      <th>last_pymnt_d</th>\n",
              "      <td>Nov-2019</td>\n",
              "      <td>Nov-2019</td>\n",
              "      <td>Jan-2019</td>\n",
              "      <td>Nov-2019</td>\n",
              "      <td>Nov-2019</td>\n",
              "    </tr>\n",
              "    <tr>\n",
              "      <th>last_pymnt_amnt</th>\n",
              "      <td>312.08</td>\n",
              "      <td>936.84</td>\n",
              "      <td>14022.6</td>\n",
              "      <td>452.31</td>\n",
              "      <td>957</td>\n",
              "    </tr>\n",
              "    <tr>\n",
              "      <th>next_pymnt_d</th>\n",
              "      <td>Dec-2019</td>\n",
              "      <td>Dec-2019</td>\n",
              "      <td>NaN</td>\n",
              "      <td>Dec-2019</td>\n",
              "      <td>Dec-2019</td>\n",
              "    </tr>\n",
              "    <tr>\n",
              "      <th>last_credit_pull_d</th>\n",
              "      <td>Nov-2019</td>\n",
              "      <td>Nov-2019</td>\n",
              "      <td>Nov-2019</td>\n",
              "      <td>Nov-2019</td>\n",
              "      <td>Nov-2019</td>\n",
              "    </tr>\n",
              "    <tr>\n",
              "      <th>collections_12_mths_ex_med</th>\n",
              "      <td>0</td>\n",
              "      <td>0</td>\n",
              "      <td>0</td>\n",
              "      <td>0</td>\n",
              "      <td>0</td>\n",
              "    </tr>\n",
              "    <tr>\n",
              "      <th>mths_since_last_major_derog</th>\n",
              "      <td>NaN</td>\n",
              "      <td>NaN</td>\n",
              "      <td>NaN</td>\n",
              "      <td>NaN</td>\n",
              "      <td>14</td>\n",
              "    </tr>\n",
              "    <tr>\n",
              "      <th>policy_code</th>\n",
              "      <td>1</td>\n",
              "      <td>1</td>\n",
              "      <td>1</td>\n",
              "      <td>1</td>\n",
              "      <td>1</td>\n",
              "    </tr>\n",
              "    <tr>\n",
              "      <th>application_type</th>\n",
              "      <td>Individual</td>\n",
              "      <td>Individual</td>\n",
              "      <td>Individual</td>\n",
              "      <td>Individual</td>\n",
              "      <td>Individual</td>\n",
              "    </tr>\n",
              "    <tr>\n",
              "      <th>annual_inc_joint</th>\n",
              "      <td>NaN</td>\n",
              "      <td>NaN</td>\n",
              "      <td>NaN</td>\n",
              "      <td>NaN</td>\n",
              "      <td>NaN</td>\n",
              "    </tr>\n",
              "    <tr>\n",
              "      <th>dti_joint</th>\n",
              "      <td>NaN</td>\n",
              "      <td>NaN</td>\n",
              "      <td>NaN</td>\n",
              "      <td>NaN</td>\n",
              "      <td>NaN</td>\n",
              "    </tr>\n",
              "    <tr>\n",
              "      <th>verification_status_joint</th>\n",
              "      <td>NaN</td>\n",
              "      <td>NaN</td>\n",
              "      <td>NaN</td>\n",
              "      <td>NaN</td>\n",
              "      <td>NaN</td>\n",
              "    </tr>\n",
              "    <tr>\n",
              "      <th>acc_now_delinq</th>\n",
              "      <td>0</td>\n",
              "      <td>0</td>\n",
              "      <td>0</td>\n",
              "      <td>0</td>\n",
              "      <td>0</td>\n",
              "    </tr>\n",
              "    <tr>\n",
              "      <th>tot_coll_amt</th>\n",
              "      <td>0</td>\n",
              "      <td>0</td>\n",
              "      <td>0</td>\n",
              "      <td>0</td>\n",
              "      <td>0</td>\n",
              "    </tr>\n",
              "    <tr>\n",
              "      <th>tot_cur_bal</th>\n",
              "      <td>266673</td>\n",
              "      <td>202928</td>\n",
              "      <td>65307</td>\n",
              "      <td>56321</td>\n",
              "      <td>334446</td>\n",
              "    </tr>\n",
              "    <tr>\n",
              "      <th>open_acc_6m</th>\n",
              "      <td>1</td>\n",
              "      <td>0</td>\n",
              "      <td>1</td>\n",
              "      <td>0</td>\n",
              "      <td>2</td>\n",
              "    </tr>\n",
              "    <tr>\n",
              "      <th>open_act_il</th>\n",
              "      <td>0</td>\n",
              "      <td>2</td>\n",
              "      <td>4</td>\n",
              "      <td>8</td>\n",
              "      <td>3</td>\n",
              "    </tr>\n",
              "    <tr>\n",
              "      <th>open_il_12m</th>\n",
              "      <td>0</td>\n",
              "      <td>0</td>\n",
              "      <td>1</td>\n",
              "      <td>1</td>\n",
              "      <td>0</td>\n",
              "    </tr>\n",
              "    <tr>\n",
              "      <th>open_il_24m</th>\n",
              "      <td>0</td>\n",
              "      <td>0</td>\n",
              "      <td>3</td>\n",
              "      <td>3</td>\n",
              "      <td>0</td>\n",
              "    </tr>\n",
              "    <tr>\n",
              "      <th>mths_since_rcnt_il</th>\n",
              "      <td>NaN</td>\n",
              "      <td>25</td>\n",
              "      <td>2</td>\n",
              "      <td>10</td>\n",
              "      <td>27</td>\n",
              "    </tr>\n",
              "    <tr>\n",
              "      <th>total_bal_il</th>\n",
              "      <td>0</td>\n",
              "      <td>152023</td>\n",
              "      <td>62691</td>\n",
              "      <td>43070</td>\n",
              "      <td>16945</td>\n",
              "    </tr>\n",
              "    <tr>\n",
              "      <th>il_util</th>\n",
              "      <td>NaN</td>\n",
              "      <td>37</td>\n",
              "      <td>63</td>\n",
              "      <td>73</td>\n",
              "      <td>66</td>\n",
              "    </tr>\n",
              "    <tr>\n",
              "      <th>open_rv_12m</th>\n",
              "      <td>1</td>\n",
              "      <td>0</td>\n",
              "      <td>0</td>\n",
              "      <td>0</td>\n",
              "      <td>2</td>\n",
              "    </tr>\n",
              "    <tr>\n",
              "      <th>open_rv_24m</th>\n",
              "      <td>3</td>\n",
              "      <td>0</td>\n",
              "      <td>1</td>\n",
              "      <td>1</td>\n",
              "      <td>2</td>\n",
              "    </tr>\n",
              "    <tr>\n",
              "      <th>max_bal_bc</th>\n",
              "      <td>18239</td>\n",
              "      <td>20610</td>\n",
              "      <td>200</td>\n",
              "      <td>13187</td>\n",
              "      <td>22866</td>\n",
              "    </tr>\n",
              "    <tr>\n",
              "      <th>all_util</th>\n",
              "      <td>66</td>\n",
              "      <td>72</td>\n",
              "      <td>53</td>\n",
              "      <td>43</td>\n",
              "      <td>61</td>\n",
              "    </tr>\n",
              "    <tr>\n",
              "      <th>total_rev_hi_lim</th>\n",
              "      <td>44000</td>\n",
              "      <td>64400</td>\n",
              "      <td>15700</td>\n",
              "      <td>71000</td>\n",
              "      <td>83400</td>\n",
              "    </tr>\n",
              "    <tr>\n",
              "      <th>inq_fi</th>\n",
              "      <td>0</td>\n",
              "      <td>0</td>\n",
              "      <td>1</td>\n",
              "      <td>1</td>\n",
              "      <td>0</td>\n",
              "    </tr>\n",
              "    <tr>\n",
              "      <th>total_cu_tl</th>\n",
              "      <td>0</td>\n",
              "      <td>0</td>\n",
              "      <td>2</td>\n",
              "      <td>1</td>\n",
              "      <td>1</td>\n",
              "    </tr>\n",
              "    <tr>\n",
              "      <th>inq_last_12m</th>\n",
              "      <td>3</td>\n",
              "      <td>0</td>\n",
              "      <td>0</td>\n",
              "      <td>2</td>\n",
              "      <td>2</td>\n",
              "    </tr>\n",
              "    <tr>\n",
              "      <th>acc_open_past_24mths</th>\n",
              "      <td>4</td>\n",
              "      <td>0</td>\n",
              "      <td>4</td>\n",
              "      <td>4</td>\n",
              "      <td>4</td>\n",
              "    </tr>\n",
              "    <tr>\n",
              "      <th>avg_cur_bal</th>\n",
              "      <td>38096</td>\n",
              "      <td>22548</td>\n",
              "      <td>7256</td>\n",
              "      <td>3755</td>\n",
              "      <td>25727</td>\n",
              "    </tr>\n",
              "    <tr>\n",
              "      <th>bc_open_to_buy</th>\n",
              "      <td>13249</td>\n",
              "      <td>3213</td>\n",
              "      <td>7000</td>\n",
              "      <td>56449</td>\n",
              "      <td>18384</td>\n",
              "    </tr>\n",
              "    <tr>\n",
              "      <th>bc_util</th>\n",
              "      <td>66.9</td>\n",
              "      <td>93</td>\n",
              "      <td>2.8</td>\n",
              "      <td>19</td>\n",
              "      <td>71.2</td>\n",
              "    </tr>\n",
              "    <tr>\n",
              "      <th>chargeoff_within_12_mths</th>\n",
              "      <td>0</td>\n",
              "      <td>0</td>\n",
              "      <td>0</td>\n",
              "      <td>0</td>\n",
              "      <td>0</td>\n",
              "    </tr>\n",
              "    <tr>\n",
              "      <th>delinq_amnt</th>\n",
              "      <td>0</td>\n",
              "      <td>0</td>\n",
              "      <td>0</td>\n",
              "      <td>0</td>\n",
              "      <td>0</td>\n",
              "    </tr>\n",
              "    <tr>\n",
              "      <th>mo_sin_old_il_acct</th>\n",
              "      <td>NaN</td>\n",
              "      <td>121</td>\n",
              "      <td>229</td>\n",
              "      <td>140</td>\n",
              "      <td>217</td>\n",
              "    </tr>\n",
              "    <tr>\n",
              "      <th>mo_sin_old_rev_tl_op</th>\n",
              "      <td>98</td>\n",
              "      <td>148</td>\n",
              "      <td>201</td>\n",
              "      <td>189</td>\n",
              "      <td>285</td>\n",
              "    </tr>\n",
              "    <tr>\n",
              "      <th>mo_sin_rcnt_rev_tl_op</th>\n",
              "      <td>4</td>\n",
              "      <td>45</td>\n",
              "      <td>23</td>\n",
              "      <td>13</td>\n",
              "      <td>2</td>\n",
              "    </tr>\n",
              "    <tr>\n",
              "      <th>mo_sin_rcnt_tl</th>\n",
              "      <td>4</td>\n",
              "      <td>25</td>\n",
              "      <td>2</td>\n",
              "      <td>10</td>\n",
              "      <td>2</td>\n",
              "    </tr>\n",
              "    <tr>\n",
              "      <th>mort_acc</th>\n",
              "      <td>1</td>\n",
              "      <td>0</td>\n",
              "      <td>2</td>\n",
              "      <td>0</td>\n",
              "      <td>6</td>\n",
              "    </tr>\n",
              "    <tr>\n",
              "      <th>mths_since_recent_bc</th>\n",
              "      <td>21</td>\n",
              "      <td>81</td>\n",
              "      <td>23</td>\n",
              "      <td>13</td>\n",
              "      <td>2</td>\n",
              "    </tr>\n",
              "    <tr>\n",
              "      <th>mths_since_recent_bc_dlq</th>\n",
              "      <td>NaN</td>\n",
              "      <td>NaN</td>\n",
              "      <td>60</td>\n",
              "      <td>NaN</td>\n",
              "      <td>NaN</td>\n",
              "    </tr>\n",
              "    <tr>\n",
              "      <th>mths_since_recent_inq</th>\n",
              "      <td>4</td>\n",
              "      <td>NaN</td>\n",
              "      <td>17</td>\n",
              "      <td>1</td>\n",
              "      <td>2</td>\n",
              "    </tr>\n",
              "    <tr>\n",
              "      <th>mths_since_recent_revol_delinq</th>\n",
              "      <td>NaN</td>\n",
              "      <td>NaN</td>\n",
              "      <td>60</td>\n",
              "      <td>NaN</td>\n",
              "      <td>NaN</td>\n",
              "    </tr>\n",
              "    <tr>\n",
              "      <th>num_accts_ever_120_pd</th>\n",
              "      <td>0</td>\n",
              "      <td>0</td>\n",
              "      <td>0</td>\n",
              "      <td>0</td>\n",
              "      <td>1</td>\n",
              "    </tr>\n",
              "    <tr>\n",
              "      <th>num_actv_bc_tl</th>\n",
              "      <td>2</td>\n",
              "      <td>4</td>\n",
              "      <td>1</td>\n",
              "      <td>2</td>\n",
              "      <td>3</td>\n",
              "    </tr>\n",
              "    <tr>\n",
              "      <th>num_actv_rev_tl</th>\n",
              "      <td>4</td>\n",
              "      <td>7</td>\n",
              "      <td>2</td>\n",
              "      <td>2</td>\n",
              "      <td>4</td>\n",
              "    </tr>\n",
              "    <tr>\n",
              "      <th>num_bc_sats</th>\n",
              "      <td>3</td>\n",
              "      <td>5</td>\n",
              "      <td>1</td>\n",
              "      <td>6</td>\n",
              "      <td>5</td>\n",
              "    </tr>\n",
              "    <tr>\n",
              "      <th>num_bc_tl</th>\n",
              "      <td>3</td>\n",
              "      <td>6</td>\n",
              "      <td>7</td>\n",
              "      <td>10</td>\n",
              "      <td>9</td>\n",
              "    </tr>\n",
              "    <tr>\n",
              "      <th>num_il_tl</th>\n",
              "      <td>0</td>\n",
              "      <td>11</td>\n",
              "      <td>15</td>\n",
              "      <td>13</td>\n",
              "      <td>16</td>\n",
              "    </tr>\n",
              "    <tr>\n",
              "      <th>num_op_rev_tl</th>\n",
              "      <td>6</td>\n",
              "      <td>10</td>\n",
              "      <td>4</td>\n",
              "      <td>7</td>\n",
              "      <td>9</td>\n",
              "    </tr>\n",
              "    <tr>\n",
              "      <th>num_rev_accts</th>\n",
              "      <td>7</td>\n",
              "      <td>15</td>\n",
              "      <td>20</td>\n",
              "      <td>14</td>\n",
              "      <td>13</td>\n",
              "    </tr>\n",
              "    <tr>\n",
              "      <th>num_rev_tl_bal_gt_0</th>\n",
              "      <td>4</td>\n",
              "      <td>7</td>\n",
              "      <td>2</td>\n",
              "      <td>2</td>\n",
              "      <td>4</td>\n",
              "    </tr>\n",
              "    <tr>\n",
              "      <th>num_sats</th>\n",
              "      <td>7</td>\n",
              "      <td>12</td>\n",
              "      <td>9</td>\n",
              "      <td>15</td>\n",
              "      <td>13</td>\n",
              "    </tr>\n",
              "    <tr>\n",
              "      <th>num_tl_120dpd_2m</th>\n",
              "      <td>0</td>\n",
              "      <td>0</td>\n",
              "      <td>0</td>\n",
              "      <td>0</td>\n",
              "      <td>0</td>\n",
              "    </tr>\n",
              "    <tr>\n",
              "      <th>num_tl_30dpd</th>\n",
              "      <td>0</td>\n",
              "      <td>0</td>\n",
              "      <td>0</td>\n",
              "      <td>0</td>\n",
              "      <td>0</td>\n",
              "    </tr>\n",
              "    <tr>\n",
              "      <th>num_tl_90g_dpd_24m</th>\n",
              "      <td>0</td>\n",
              "      <td>0</td>\n",
              "      <td>0</td>\n",
              "      <td>0</td>\n",
              "      <td>1</td>\n",
              "    </tr>\n",
              "    <tr>\n",
              "      <th>num_tl_op_past_12m</th>\n",
              "      <td>2</td>\n",
              "      <td>0</td>\n",
              "      <td>1</td>\n",
              "      <td>1</td>\n",
              "      <td>2</td>\n",
              "    </tr>\n",
              "    <tr>\n",
              "      <th>pct_tl_nvr_dlq</th>\n",
              "      <td>100</td>\n",
              "      <td>100</td>\n",
              "      <td>92.1</td>\n",
              "      <td>100</td>\n",
              "      <td>97.1</td>\n",
              "    </tr>\n",
              "    <tr>\n",
              "      <th>percent_bc_gt_75</th>\n",
              "      <td>66.7</td>\n",
              "      <td>100</td>\n",
              "      <td>0</td>\n",
              "      <td>16.7</td>\n",
              "      <td>40</td>\n",
              "    </tr>\n",
              "    <tr>\n",
              "      <th>pub_rec_bankruptcies</th>\n",
              "      <td>0</td>\n",
              "      <td>0</td>\n",
              "      <td>0</td>\n",
              "      <td>0</td>\n",
              "      <td>0</td>\n",
              "    </tr>\n",
              "    <tr>\n",
              "      <th>tax_liens</th>\n",
              "      <td>0</td>\n",
              "      <td>0</td>\n",
              "      <td>0</td>\n",
              "      <td>0</td>\n",
              "      <td>0</td>\n",
              "    </tr>\n",
              "    <tr>\n",
              "      <th>tot_hi_cred_lim</th>\n",
              "      <td>284200</td>\n",
              "      <td>189145</td>\n",
              "      <td>141168</td>\n",
              "      <td>130321</td>\n",
              "      <td>417298</td>\n",
              "    </tr>\n",
              "    <tr>\n",
              "      <th>total_bal_ex_mort</th>\n",
              "      <td>28814</td>\n",
              "      <td>202928</td>\n",
              "      <td>65307</td>\n",
              "      <td>56321</td>\n",
              "      <td>66332</td>\n",
              "    </tr>\n",
              "    <tr>\n",
              "      <th>total_bc_limit</th>\n",
              "      <td>40000</td>\n",
              "      <td>46100</td>\n",
              "      <td>7200</td>\n",
              "      <td>69700</td>\n",
              "      <td>63900</td>\n",
              "    </tr>\n",
              "    <tr>\n",
              "      <th>total_il_high_credit_limit</th>\n",
              "      <td>0</td>\n",
              "      <td>124745</td>\n",
              "      <td>120000</td>\n",
              "      <td>59321</td>\n",
              "      <td>60327</td>\n",
              "    </tr>\n",
              "    <tr>\n",
              "      <th>revol_bal_joint</th>\n",
              "      <td>NaN</td>\n",
              "      <td>NaN</td>\n",
              "      <td>NaN</td>\n",
              "      <td>NaN</td>\n",
              "      <td>NaN</td>\n",
              "    </tr>\n",
              "    <tr>\n",
              "      <th>sec_app_earliest_cr_line</th>\n",
              "      <td>NaN</td>\n",
              "      <td>NaN</td>\n",
              "      <td>NaN</td>\n",
              "      <td>NaN</td>\n",
              "      <td>NaN</td>\n",
              "    </tr>\n",
              "    <tr>\n",
              "      <th>sec_app_inq_last_6mths</th>\n",
              "      <td>NaN</td>\n",
              "      <td>NaN</td>\n",
              "      <td>NaN</td>\n",
              "      <td>NaN</td>\n",
              "      <td>NaN</td>\n",
              "    </tr>\n",
              "    <tr>\n",
              "      <th>sec_app_mort_acc</th>\n",
              "      <td>NaN</td>\n",
              "      <td>NaN</td>\n",
              "      <td>NaN</td>\n",
              "      <td>NaN</td>\n",
              "      <td>NaN</td>\n",
              "    </tr>\n",
              "    <tr>\n",
              "      <th>sec_app_open_acc</th>\n",
              "      <td>NaN</td>\n",
              "      <td>NaN</td>\n",
              "      <td>NaN</td>\n",
              "      <td>NaN</td>\n",
              "      <td>NaN</td>\n",
              "    </tr>\n",
              "    <tr>\n",
              "      <th>sec_app_revol_util</th>\n",
              "      <td>NaN</td>\n",
              "      <td>NaN</td>\n",
              "      <td>NaN</td>\n",
              "      <td>NaN</td>\n",
              "      <td>NaN</td>\n",
              "    </tr>\n",
              "    <tr>\n",
              "      <th>sec_app_open_act_il</th>\n",
              "      <td>NaN</td>\n",
              "      <td>NaN</td>\n",
              "      <td>NaN</td>\n",
              "      <td>NaN</td>\n",
              "      <td>NaN</td>\n",
              "    </tr>\n",
              "    <tr>\n",
              "      <th>sec_app_num_rev_accts</th>\n",
              "      <td>NaN</td>\n",
              "      <td>NaN</td>\n",
              "      <td>NaN</td>\n",
              "      <td>NaN</td>\n",
              "      <td>NaN</td>\n",
              "    </tr>\n",
              "    <tr>\n",
              "      <th>sec_app_chargeoff_within_12_mths</th>\n",
              "      <td>NaN</td>\n",
              "      <td>NaN</td>\n",
              "      <td>NaN</td>\n",
              "      <td>NaN</td>\n",
              "      <td>NaN</td>\n",
              "    </tr>\n",
              "    <tr>\n",
              "      <th>sec_app_collections_12_mths_ex_med</th>\n",
              "      <td>NaN</td>\n",
              "      <td>NaN</td>\n",
              "      <td>NaN</td>\n",
              "      <td>NaN</td>\n",
              "      <td>NaN</td>\n",
              "    </tr>\n",
              "    <tr>\n",
              "      <th>sec_app_mths_since_last_major_derog</th>\n",
              "      <td>NaN</td>\n",
              "      <td>NaN</td>\n",
              "      <td>NaN</td>\n",
              "      <td>NaN</td>\n",
              "      <td>NaN</td>\n",
              "    </tr>\n",
              "    <tr>\n",
              "      <th>hardship_flag</th>\n",
              "      <td>N</td>\n",
              "      <td>N</td>\n",
              "      <td>N</td>\n",
              "      <td>N</td>\n",
              "      <td>N</td>\n",
              "    </tr>\n",
              "    <tr>\n",
              "      <th>hardship_type</th>\n",
              "      <td>NaN</td>\n",
              "      <td>NaN</td>\n",
              "      <td>NaN</td>\n",
              "      <td>NaN</td>\n",
              "      <td>NaN</td>\n",
              "    </tr>\n",
              "    <tr>\n",
              "      <th>hardship_reason</th>\n",
              "      <td>NaN</td>\n",
              "      <td>NaN</td>\n",
              "      <td>NaN</td>\n",
              "      <td>NaN</td>\n",
              "      <td>NaN</td>\n",
              "    </tr>\n",
              "    <tr>\n",
              "      <th>hardship_status</th>\n",
              "      <td>NaN</td>\n",
              "      <td>NaN</td>\n",
              "      <td>NaN</td>\n",
              "      <td>NaN</td>\n",
              "      <td>NaN</td>\n",
              "    </tr>\n",
              "    <tr>\n",
              "      <th>deferral_term</th>\n",
              "      <td>NaN</td>\n",
              "      <td>NaN</td>\n",
              "      <td>NaN</td>\n",
              "      <td>NaN</td>\n",
              "      <td>NaN</td>\n",
              "    </tr>\n",
              "    <tr>\n",
              "      <th>hardship_amount</th>\n",
              "      <td>NaN</td>\n",
              "      <td>NaN</td>\n",
              "      <td>NaN</td>\n",
              "      <td>NaN</td>\n",
              "      <td>NaN</td>\n",
              "    </tr>\n",
              "    <tr>\n",
              "      <th>hardship_start_date</th>\n",
              "      <td>NaN</td>\n",
              "      <td>NaN</td>\n",
              "      <td>NaN</td>\n",
              "      <td>NaN</td>\n",
              "      <td>NaN</td>\n",
              "    </tr>\n",
              "    <tr>\n",
              "      <th>hardship_end_date</th>\n",
              "      <td>NaN</td>\n",
              "      <td>NaN</td>\n",
              "      <td>NaN</td>\n",
              "      <td>NaN</td>\n",
              "      <td>NaN</td>\n",
              "    </tr>\n",
              "    <tr>\n",
              "      <th>payment_plan_start_date</th>\n",
              "      <td>NaN</td>\n",
              "      <td>NaN</td>\n",
              "      <td>NaN</td>\n",
              "      <td>NaN</td>\n",
              "      <td>NaN</td>\n",
              "    </tr>\n",
              "    <tr>\n",
              "      <th>hardship_length</th>\n",
              "      <td>NaN</td>\n",
              "      <td>NaN</td>\n",
              "      <td>NaN</td>\n",
              "      <td>NaN</td>\n",
              "      <td>NaN</td>\n",
              "    </tr>\n",
              "    <tr>\n",
              "      <th>hardship_dpd</th>\n",
              "      <td>NaN</td>\n",
              "      <td>NaN</td>\n",
              "      <td>NaN</td>\n",
              "      <td>NaN</td>\n",
              "      <td>NaN</td>\n",
              "    </tr>\n",
              "    <tr>\n",
              "      <th>hardship_loan_status</th>\n",
              "      <td>NaN</td>\n",
              "      <td>NaN</td>\n",
              "      <td>NaN</td>\n",
              "      <td>NaN</td>\n",
              "      <td>NaN</td>\n",
              "    </tr>\n",
              "    <tr>\n",
              "      <th>orig_projected_additional_accrued_interest</th>\n",
              "      <td>NaN</td>\n",
              "      <td>NaN</td>\n",
              "      <td>NaN</td>\n",
              "      <td>NaN</td>\n",
              "      <td>NaN</td>\n",
              "    </tr>\n",
              "    <tr>\n",
              "      <th>hardship_payoff_balance_amount</th>\n",
              "      <td>NaN</td>\n",
              "      <td>NaN</td>\n",
              "      <td>NaN</td>\n",
              "      <td>NaN</td>\n",
              "      <td>NaN</td>\n",
              "    </tr>\n",
              "    <tr>\n",
              "      <th>hardship_last_payment_amount</th>\n",
              "      <td>NaN</td>\n",
              "      <td>NaN</td>\n",
              "      <td>NaN</td>\n",
              "      <td>NaN</td>\n",
              "      <td>NaN</td>\n",
              "    </tr>\n",
              "    <tr>\n",
              "      <th>debt_settlement_flag</th>\n",
              "      <td>N</td>\n",
              "      <td>N</td>\n",
              "      <td>N</td>\n",
              "      <td>N</td>\n",
              "      <td>N</td>\n",
              "    </tr>\n",
              "    <tr>\n",
              "      <th>debt_settlement_flag_date</th>\n",
              "      <td>NaN</td>\n",
              "      <td>NaN</td>\n",
              "      <td>NaN</td>\n",
              "      <td>NaN</td>\n",
              "      <td>NaN</td>\n",
              "    </tr>\n",
              "    <tr>\n",
              "      <th>settlement_status</th>\n",
              "      <td>NaN</td>\n",
              "      <td>NaN</td>\n",
              "      <td>NaN</td>\n",
              "      <td>NaN</td>\n",
              "      <td>NaN</td>\n",
              "    </tr>\n",
              "    <tr>\n",
              "      <th>settlement_date</th>\n",
              "      <td>NaN</td>\n",
              "      <td>NaN</td>\n",
              "      <td>NaN</td>\n",
              "      <td>NaN</td>\n",
              "      <td>NaN</td>\n",
              "    </tr>\n",
              "    <tr>\n",
              "      <th>settlement_amount</th>\n",
              "      <td>NaN</td>\n",
              "      <td>NaN</td>\n",
              "      <td>NaN</td>\n",
              "      <td>NaN</td>\n",
              "      <td>NaN</td>\n",
              "    </tr>\n",
              "    <tr>\n",
              "      <th>settlement_percentage</th>\n",
              "      <td>NaN</td>\n",
              "      <td>NaN</td>\n",
              "      <td>NaN</td>\n",
              "      <td>NaN</td>\n",
              "      <td>NaN</td>\n",
              "    </tr>\n",
              "    <tr>\n",
              "      <th>settlement_term</th>\n",
              "      <td>NaN</td>\n",
              "      <td>NaN</td>\n",
              "      <td>NaN</td>\n",
              "      <td>NaN</td>\n",
              "      <td>NaN</td>\n",
              "    </tr>\n",
              "  </tbody>\n",
              "</table>\n",
              "</div>"
            ],
            "text/plain": [
              "                                                          0  \\\n",
              "id                                                      NaN   \n",
              "member_id                                               NaN   \n",
              "loan_amnt                                              9000   \n",
              "funded_amnt                                            9000   \n",
              "funded_amnt_inv                                        9000   \n",
              "term                                              36 months   \n",
              "int_rate                                             15.02%   \n",
              "installment                                          312.08   \n",
              "grade                                                     C   \n",
              "sub_grade                                                C3   \n",
              "emp_title                                             buyer   \n",
              "emp_length                                        10+ years   \n",
              "home_ownership                                     MORTGAGE   \n",
              "annual_inc                                            90000   \n",
              "verification_status                         Source Verified   \n",
              "issue_d                                            Sep-2018   \n",
              "loan_status                                         Current   \n",
              "pymnt_plan                                                n   \n",
              "url                                                     NaN   \n",
              "desc                                                    NaN   \n",
              "purpose                                               other   \n",
              "title                                                 Other   \n",
              "zip_code                                              018xx   \n",
              "addr_state                                               MA   \n",
              "dti                                                   10.81   \n",
              "delinq_2yrs                                               0   \n",
              "earliest_cr_line                                   Jul-2010   \n",
              "inq_last_6mths                                            1   \n",
              "mths_since_last_delinq                                  NaN   \n",
              "mths_since_last_record                                  NaN   \n",
              "open_acc                                                  7   \n",
              "pub_rec                                                   0   \n",
              "revol_bal                                             28814   \n",
              "revol_util                                            65.5%   \n",
              "total_acc                                                 8   \n",
              "initial_list_status                                       w   \n",
              "out_prncp                                           5969.05   \n",
              "out_prncp_inv                                       5969.05   \n",
              "total_pymnt                                          4354.1   \n",
              "total_pymnt_inv                                      4354.1   \n",
              "total_rec_prncp                                     3030.95   \n",
              "total_rec_int                                       1323.15   \n",
              "total_rec_late_fee                                        0   \n",
              "recoveries                                                0   \n",
              "collection_recovery_fee                                   0   \n",
              "last_pymnt_d                                       Nov-2019   \n",
              "last_pymnt_amnt                                      312.08   \n",
              "next_pymnt_d                                       Dec-2019   \n",
              "last_credit_pull_d                                 Nov-2019   \n",
              "collections_12_mths_ex_med                                0   \n",
              "mths_since_last_major_derog                             NaN   \n",
              "policy_code                                               1   \n",
              "application_type                                 Individual   \n",
              "annual_inc_joint                                        NaN   \n",
              "dti_joint                                               NaN   \n",
              "verification_status_joint                               NaN   \n",
              "acc_now_delinq                                            0   \n",
              "tot_coll_amt                                              0   \n",
              "tot_cur_bal                                          266673   \n",
              "open_acc_6m                                               1   \n",
              "open_act_il                                               0   \n",
              "open_il_12m                                               0   \n",
              "open_il_24m                                               0   \n",
              "mths_since_rcnt_il                                      NaN   \n",
              "total_bal_il                                              0   \n",
              "il_util                                                 NaN   \n",
              "open_rv_12m                                               1   \n",
              "open_rv_24m                                               3   \n",
              "max_bal_bc                                            18239   \n",
              "all_util                                                 66   \n",
              "total_rev_hi_lim                                      44000   \n",
              "inq_fi                                                    0   \n",
              "total_cu_tl                                               0   \n",
              "inq_last_12m                                              3   \n",
              "acc_open_past_24mths                                      4   \n",
              "avg_cur_bal                                           38096   \n",
              "bc_open_to_buy                                        13249   \n",
              "bc_util                                                66.9   \n",
              "chargeoff_within_12_mths                                  0   \n",
              "delinq_amnt                                               0   \n",
              "mo_sin_old_il_acct                                      NaN   \n",
              "mo_sin_old_rev_tl_op                                     98   \n",
              "mo_sin_rcnt_rev_tl_op                                     4   \n",
              "mo_sin_rcnt_tl                                            4   \n",
              "mort_acc                                                  1   \n",
              "mths_since_recent_bc                                     21   \n",
              "mths_since_recent_bc_dlq                                NaN   \n",
              "mths_since_recent_inq                                     4   \n",
              "mths_since_recent_revol_delinq                          NaN   \n",
              "num_accts_ever_120_pd                                     0   \n",
              "num_actv_bc_tl                                            2   \n",
              "num_actv_rev_tl                                           4   \n",
              "num_bc_sats                                               3   \n",
              "num_bc_tl                                                 3   \n",
              "num_il_tl                                                 0   \n",
              "num_op_rev_tl                                             6   \n",
              "num_rev_accts                                             7   \n",
              "num_rev_tl_bal_gt_0                                       4   \n",
              "num_sats                                                  7   \n",
              "num_tl_120dpd_2m                                          0   \n",
              "num_tl_30dpd                                              0   \n",
              "num_tl_90g_dpd_24m                                        0   \n",
              "num_tl_op_past_12m                                        2   \n",
              "pct_tl_nvr_dlq                                          100   \n",
              "percent_bc_gt_75                                       66.7   \n",
              "pub_rec_bankruptcies                                      0   \n",
              "tax_liens                                                 0   \n",
              "tot_hi_cred_lim                                      284200   \n",
              "total_bal_ex_mort                                     28814   \n",
              "total_bc_limit                                        40000   \n",
              "total_il_high_credit_limit                                0   \n",
              "revol_bal_joint                                         NaN   \n",
              "sec_app_earliest_cr_line                                NaN   \n",
              "sec_app_inq_last_6mths                                  NaN   \n",
              "sec_app_mort_acc                                        NaN   \n",
              "sec_app_open_acc                                        NaN   \n",
              "sec_app_revol_util                                      NaN   \n",
              "sec_app_open_act_il                                     NaN   \n",
              "sec_app_num_rev_accts                                   NaN   \n",
              "sec_app_chargeoff_within_12_mths                        NaN   \n",
              "sec_app_collections_12_mths_ex_med                      NaN   \n",
              "sec_app_mths_since_last_major_derog                     NaN   \n",
              "hardship_flag                                             N   \n",
              "hardship_type                                           NaN   \n",
              "hardship_reason                                         NaN   \n",
              "hardship_status                                         NaN   \n",
              "deferral_term                                           NaN   \n",
              "hardship_amount                                         NaN   \n",
              "hardship_start_date                                     NaN   \n",
              "hardship_end_date                                       NaN   \n",
              "payment_plan_start_date                                 NaN   \n",
              "hardship_length                                         NaN   \n",
              "hardship_dpd                                            NaN   \n",
              "hardship_loan_status                                    NaN   \n",
              "orig_projected_additional_accrued_interest              NaN   \n",
              "hardship_payoff_balance_amount                          NaN   \n",
              "hardship_last_payment_amount                            NaN   \n",
              "debt_settlement_flag                                      N   \n",
              "debt_settlement_flag_date                               NaN   \n",
              "settlement_status                                       NaN   \n",
              "settlement_date                                         NaN   \n",
              "settlement_amount                                       NaN   \n",
              "settlement_percentage                                   NaN   \n",
              "settlement_term                                         NaN   \n",
              "\n",
              "                                                                  1  \\\n",
              "id                                                              NaN   \n",
              "member_id                                                       NaN   \n",
              "loan_amnt                                                     29000   \n",
              "funded_amnt                                                   29000   \n",
              "funded_amnt_inv                                               29000   \n",
              "term                                                      36 months   \n",
              "int_rate                                                     10.08%   \n",
              "installment                                                  936.84   \n",
              "grade                                                             B   \n",
              "sub_grade                                                        B1   \n",
              "emp_title                                                  Attorney   \n",
              "emp_length                                                  9 years   \n",
              "home_ownership                                                 RENT   \n",
              "annual_inc                                                   123000   \n",
              "verification_status                                    Not Verified   \n",
              "issue_d                                                    Sep-2018   \n",
              "loan_status                                                 Current   \n",
              "pymnt_plan                                                        n   \n",
              "url                                                             NaN   \n",
              "desc                                                            NaN   \n",
              "purpose                                                 credit_card   \n",
              "title                                       Credit card refinancing   \n",
              "zip_code                                                      191xx   \n",
              "addr_state                                                       PA   \n",
              "dti                                                           27.73   \n",
              "delinq_2yrs                                                       0   \n",
              "earliest_cr_line                                           May-2006   \n",
              "inq_last_6mths                                                    0   \n",
              "mths_since_last_delinq                                          NaN   \n",
              "mths_since_last_record                                          NaN   \n",
              "open_acc                                                         12   \n",
              "pub_rec                                                           0   \n",
              "revol_bal                                                     50905   \n",
              "revol_util                                                      79%   \n",
              "total_acc                                                        26   \n",
              "initial_list_status                                               w   \n",
              "out_prncp                                                   18746.5   \n",
              "out_prncp_inv                                               18746.5   \n",
              "total_pymnt                                                 13083.3   \n",
              "total_pymnt_inv                                             13083.3   \n",
              "total_rec_prncp                                             10253.5   \n",
              "total_rec_int                                               2829.78   \n",
              "total_rec_late_fee                                                0   \n",
              "recoveries                                                        0   \n",
              "collection_recovery_fee                                           0   \n",
              "last_pymnt_d                                               Nov-2019   \n",
              "last_pymnt_amnt                                              936.84   \n",
              "next_pymnt_d                                               Dec-2019   \n",
              "last_credit_pull_d                                         Nov-2019   \n",
              "collections_12_mths_ex_med                                        0   \n",
              "mths_since_last_major_derog                                     NaN   \n",
              "policy_code                                                       1   \n",
              "application_type                                         Individual   \n",
              "annual_inc_joint                                                NaN   \n",
              "dti_joint                                                       NaN   \n",
              "verification_status_joint                                       NaN   \n",
              "acc_now_delinq                                                    0   \n",
              "tot_coll_amt                                                      0   \n",
              "tot_cur_bal                                                  202928   \n",
              "open_acc_6m                                                       0   \n",
              "open_act_il                                                       2   \n",
              "open_il_12m                                                       0   \n",
              "open_il_24m                                                       0   \n",
              "mths_since_rcnt_il                                               25   \n",
              "total_bal_il                                                 152023   \n",
              "il_util                                                          37   \n",
              "open_rv_12m                                                       0   \n",
              "open_rv_24m                                                       0   \n",
              "max_bal_bc                                                    20610   \n",
              "all_util                                                         72   \n",
              "total_rev_hi_lim                                              64400   \n",
              "inq_fi                                                            0   \n",
              "total_cu_tl                                                       0   \n",
              "inq_last_12m                                                      0   \n",
              "acc_open_past_24mths                                              0   \n",
              "avg_cur_bal                                                   22548   \n",
              "bc_open_to_buy                                                 3213   \n",
              "bc_util                                                          93   \n",
              "chargeoff_within_12_mths                                          0   \n",
              "delinq_amnt                                                       0   \n",
              "mo_sin_old_il_acct                                              121   \n",
              "mo_sin_old_rev_tl_op                                            148   \n",
              "mo_sin_rcnt_rev_tl_op                                            45   \n",
              "mo_sin_rcnt_tl                                                   25   \n",
              "mort_acc                                                          0   \n",
              "mths_since_recent_bc                                             81   \n",
              "mths_since_recent_bc_dlq                                        NaN   \n",
              "mths_since_recent_inq                                           NaN   \n",
              "mths_since_recent_revol_delinq                                  NaN   \n",
              "num_accts_ever_120_pd                                             0   \n",
              "num_actv_bc_tl                                                    4   \n",
              "num_actv_rev_tl                                                   7   \n",
              "num_bc_sats                                                       5   \n",
              "num_bc_tl                                                         6   \n",
              "num_il_tl                                                        11   \n",
              "num_op_rev_tl                                                    10   \n",
              "num_rev_accts                                                    15   \n",
              "num_rev_tl_bal_gt_0                                               7   \n",
              "num_sats                                                         12   \n",
              "num_tl_120dpd_2m                                                  0   \n",
              "num_tl_30dpd                                                      0   \n",
              "num_tl_90g_dpd_24m                                                0   \n",
              "num_tl_op_past_12m                                                0   \n",
              "pct_tl_nvr_dlq                                                  100   \n",
              "percent_bc_gt_75                                                100   \n",
              "pub_rec_bankruptcies                                              0   \n",
              "tax_liens                                                         0   \n",
              "tot_hi_cred_lim                                              189145   \n",
              "total_bal_ex_mort                                            202928   \n",
              "total_bc_limit                                                46100   \n",
              "total_il_high_credit_limit                                   124745   \n",
              "revol_bal_joint                                                 NaN   \n",
              "sec_app_earliest_cr_line                                        NaN   \n",
              "sec_app_inq_last_6mths                                          NaN   \n",
              "sec_app_mort_acc                                                NaN   \n",
              "sec_app_open_acc                                                NaN   \n",
              "sec_app_revol_util                                              NaN   \n",
              "sec_app_open_act_il                                             NaN   \n",
              "sec_app_num_rev_accts                                           NaN   \n",
              "sec_app_chargeoff_within_12_mths                                NaN   \n",
              "sec_app_collections_12_mths_ex_med                              NaN   \n",
              "sec_app_mths_since_last_major_derog                             NaN   \n",
              "hardship_flag                                                     N   \n",
              "hardship_type                                                   NaN   \n",
              "hardship_reason                                                 NaN   \n",
              "hardship_status                                                 NaN   \n",
              "deferral_term                                                   NaN   \n",
              "hardship_amount                                                 NaN   \n",
              "hardship_start_date                                             NaN   \n",
              "hardship_end_date                                               NaN   \n",
              "payment_plan_start_date                                         NaN   \n",
              "hardship_length                                                 NaN   \n",
              "hardship_dpd                                                    NaN   \n",
              "hardship_loan_status                                            NaN   \n",
              "orig_projected_additional_accrued_interest                      NaN   \n",
              "hardship_payoff_balance_amount                                  NaN   \n",
              "hardship_last_payment_amount                                    NaN   \n",
              "debt_settlement_flag                                              N   \n",
              "debt_settlement_flag_date                                       NaN   \n",
              "settlement_status                                               NaN   \n",
              "settlement_date                                                 NaN   \n",
              "settlement_amount                                               NaN   \n",
              "settlement_percentage                                           NaN   \n",
              "settlement_term                                                 NaN   \n",
              "\n",
              "                                                             2  \\\n",
              "id                                                         NaN   \n",
              "member_id                                                  NaN   \n",
              "loan_amnt                                                15000   \n",
              "funded_amnt                                              15000   \n",
              "funded_amnt_inv                                          15000   \n",
              "term                                                 36 months   \n",
              "int_rate                                                 8.46%   \n",
              "installment                                             473.24   \n",
              "grade                                                        A   \n",
              "sub_grade                                                   A5   \n",
              "emp_title                                                  NaN   \n",
              "emp_length                                            < 1 year   \n",
              "home_ownership                                            RENT   \n",
              "annual_inc                                              144898   \n",
              "verification_status                               Not Verified   \n",
              "issue_d                                               Sep-2018   \n",
              "loan_status                                         Fully Paid   \n",
              "pymnt_plan                                                   n   \n",
              "url                                                        NaN   \n",
              "desc                                                       NaN   \n",
              "purpose                                     debt_consolidation   \n",
              "title                                       Debt consolidation   \n",
              "zip_code                                                 077xx   \n",
              "addr_state                                                  NJ   \n",
              "dti                                                      11.71   \n",
              "delinq_2yrs                                                  0   \n",
              "earliest_cr_line                                      Aug-1999   \n",
              "inq_last_6mths                                               0   \n",
              "mths_since_last_delinq                                      60   \n",
              "mths_since_last_record                                     NaN   \n",
              "open_acc                                                     9   \n",
              "pub_rec                                                      0   \n",
              "revol_bal                                                  669   \n",
              "revol_util                                                4.3%   \n",
              "total_acc                                                   38   \n",
              "initial_list_status                                          w   \n",
              "out_prncp                                                    0   \n",
              "out_prncp_inv                                                0   \n",
              "total_pymnt                                            15428.2   \n",
              "total_pymnt_inv                                        15428.2   \n",
              "total_rec_prncp                                          15000   \n",
              "total_rec_int                                           428.22   \n",
              "total_rec_late_fee                                           0   \n",
              "recoveries                                                   0   \n",
              "collection_recovery_fee                                      0   \n",
              "last_pymnt_d                                          Jan-2019   \n",
              "last_pymnt_amnt                                        14022.6   \n",
              "next_pymnt_d                                               NaN   \n",
              "last_credit_pull_d                                    Nov-2019   \n",
              "collections_12_mths_ex_med                                   0   \n",
              "mths_since_last_major_derog                                NaN   \n",
              "policy_code                                                  1   \n",
              "application_type                                    Individual   \n",
              "annual_inc_joint                                           NaN   \n",
              "dti_joint                                                  NaN   \n",
              "verification_status_joint                                  NaN   \n",
              "acc_now_delinq                                               0   \n",
              "tot_coll_amt                                                 0   \n",
              "tot_cur_bal                                              65307   \n",
              "open_acc_6m                                                  1   \n",
              "open_act_il                                                  4   \n",
              "open_il_12m                                                  1   \n",
              "open_il_24m                                                  3   \n",
              "mths_since_rcnt_il                                           2   \n",
              "total_bal_il                                             62691   \n",
              "il_util                                                     63   \n",
              "open_rv_12m                                                  0   \n",
              "open_rv_24m                                                  1   \n",
              "max_bal_bc                                                 200   \n",
              "all_util                                                    53   \n",
              "total_rev_hi_lim                                         15700   \n",
              "inq_fi                                                       1   \n",
              "total_cu_tl                                                  2   \n",
              "inq_last_12m                                                 0   \n",
              "acc_open_past_24mths                                         4   \n",
              "avg_cur_bal                                               7256   \n",
              "bc_open_to_buy                                            7000   \n",
              "bc_util                                                    2.8   \n",
              "chargeoff_within_12_mths                                     0   \n",
              "delinq_amnt                                                  0   \n",
              "mo_sin_old_il_acct                                         229   \n",
              "mo_sin_old_rev_tl_op                                       201   \n",
              "mo_sin_rcnt_rev_tl_op                                       23   \n",
              "mo_sin_rcnt_tl                                               2   \n",
              "mort_acc                                                     2   \n",
              "mths_since_recent_bc                                        23   \n",
              "mths_since_recent_bc_dlq                                    60   \n",
              "mths_since_recent_inq                                       17   \n",
              "mths_since_recent_revol_delinq                              60   \n",
              "num_accts_ever_120_pd                                        0   \n",
              "num_actv_bc_tl                                               1   \n",
              "num_actv_rev_tl                                              2   \n",
              "num_bc_sats                                                  1   \n",
              "num_bc_tl                                                    7   \n",
              "num_il_tl                                                   15   \n",
              "num_op_rev_tl                                                4   \n",
              "num_rev_accts                                               20   \n",
              "num_rev_tl_bal_gt_0                                          2   \n",
              "num_sats                                                     9   \n",
              "num_tl_120dpd_2m                                             0   \n",
              "num_tl_30dpd                                                 0   \n",
              "num_tl_90g_dpd_24m                                           0   \n",
              "num_tl_op_past_12m                                           1   \n",
              "pct_tl_nvr_dlq                                            92.1   \n",
              "percent_bc_gt_75                                             0   \n",
              "pub_rec_bankruptcies                                         0   \n",
              "tax_liens                                                    0   \n",
              "tot_hi_cred_lim                                         141168   \n",
              "total_bal_ex_mort                                        65307   \n",
              "total_bc_limit                                            7200   \n",
              "total_il_high_credit_limit                              120000   \n",
              "revol_bal_joint                                            NaN   \n",
              "sec_app_earliest_cr_line                                   NaN   \n",
              "sec_app_inq_last_6mths                                     NaN   \n",
              "sec_app_mort_acc                                           NaN   \n",
              "sec_app_open_acc                                           NaN   \n",
              "sec_app_revol_util                                         NaN   \n",
              "sec_app_open_act_il                                        NaN   \n",
              "sec_app_num_rev_accts                                      NaN   \n",
              "sec_app_chargeoff_within_12_mths                           NaN   \n",
              "sec_app_collections_12_mths_ex_med                         NaN   \n",
              "sec_app_mths_since_last_major_derog                        NaN   \n",
              "hardship_flag                                                N   \n",
              "hardship_type                                              NaN   \n",
              "hardship_reason                                            NaN   \n",
              "hardship_status                                            NaN   \n",
              "deferral_term                                              NaN   \n",
              "hardship_amount                                            NaN   \n",
              "hardship_start_date                                        NaN   \n",
              "hardship_end_date                                          NaN   \n",
              "payment_plan_start_date                                    NaN   \n",
              "hardship_length                                            NaN   \n",
              "hardship_dpd                                               NaN   \n",
              "hardship_loan_status                                       NaN   \n",
              "orig_projected_additional_accrued_interest                 NaN   \n",
              "hardship_payoff_balance_amount                             NaN   \n",
              "hardship_last_payment_amount                               NaN   \n",
              "debt_settlement_flag                                         N   \n",
              "debt_settlement_flag_date                                  NaN   \n",
              "settlement_status                                          NaN   \n",
              "settlement_date                                            NaN   \n",
              "settlement_amount                                          NaN   \n",
              "settlement_percentage                                      NaN   \n",
              "settlement_term                                            NaN   \n",
              "\n",
              "                                                                      3  \\\n",
              "id                                                                  NaN   \n",
              "member_id                                                           NaN   \n",
              "loan_amnt                                                         20000   \n",
              "funded_amnt                                                       20000   \n",
              "funded_amnt_inv                                                   20000   \n",
              "term                                                          60 months   \n",
              "int_rate                                                         12.73%   \n",
              "installment                                                      452.31   \n",
              "grade                                                                 B   \n",
              "sub_grade                                                            B5   \n",
              "emp_title                                   Child Protective Specialist   \n",
              "emp_length                                                    10+ years   \n",
              "home_ownership                                                     RENT   \n",
              "annual_inc                                                        69000   \n",
              "verification_status                                     Source Verified   \n",
              "issue_d                                                        Sep-2018   \n",
              "loan_status                                                     Current   \n",
              "pymnt_plan                                                            n   \n",
              "url                                                                 NaN   \n",
              "desc                                                                NaN   \n",
              "purpose                                              debt_consolidation   \n",
              "title                                                Debt consolidation   \n",
              "zip_code                                                          111xx   \n",
              "addr_state                                                           NY   \n",
              "dti                                                               23.81   \n",
              "delinq_2yrs                                                           0   \n",
              "earliest_cr_line                                               Dec-2002   \n",
              "inq_last_6mths                                                        1   \n",
              "mths_since_last_delinq                                              NaN   \n",
              "mths_since_last_record                                              NaN   \n",
              "open_acc                                                             15   \n",
              "pub_rec                                                               0   \n",
              "revol_bal                                                         13251   \n",
              "revol_util                                                        18.7%   \n",
              "total_acc                                                            27   \n",
              "initial_list_status                                                   w   \n",
              "out_prncp                                                         16396   \n",
              "out_prncp_inv                                                     16396   \n",
              "total_pymnt                                                     6304.05   \n",
              "total_pymnt_inv                                                 6304.05   \n",
              "total_rec_prncp                                                 3603.96   \n",
              "total_rec_int                                                   2700.09   \n",
              "total_rec_late_fee                                                    0   \n",
              "recoveries                                                            0   \n",
              "collection_recovery_fee                                               0   \n",
              "last_pymnt_d                                                   Nov-2019   \n",
              "last_pymnt_amnt                                                  452.31   \n",
              "next_pymnt_d                                                   Dec-2019   \n",
              "last_credit_pull_d                                             Nov-2019   \n",
              "collections_12_mths_ex_med                                            0   \n",
              "mths_since_last_major_derog                                         NaN   \n",
              "policy_code                                                           1   \n",
              "application_type                                             Individual   \n",
              "annual_inc_joint                                                    NaN   \n",
              "dti_joint                                                           NaN   \n",
              "verification_status_joint                                           NaN   \n",
              "acc_now_delinq                                                        0   \n",
              "tot_coll_amt                                                          0   \n",
              "tot_cur_bal                                                       56321   \n",
              "open_acc_6m                                                           0   \n",
              "open_act_il                                                           8   \n",
              "open_il_12m                                                           1   \n",
              "open_il_24m                                                           3   \n",
              "mths_since_rcnt_il                                                   10   \n",
              "total_bal_il                                                      43070   \n",
              "il_util                                                              73   \n",
              "open_rv_12m                                                           0   \n",
              "open_rv_24m                                                           1   \n",
              "max_bal_bc                                                        13187   \n",
              "all_util                                                             43   \n",
              "total_rev_hi_lim                                                  71000   \n",
              "inq_fi                                                                1   \n",
              "total_cu_tl                                                           1   \n",
              "inq_last_12m                                                          2   \n",
              "acc_open_past_24mths                                                  4   \n",
              "avg_cur_bal                                                        3755   \n",
              "bc_open_to_buy                                                    56449   \n",
              "bc_util                                                              19   \n",
              "chargeoff_within_12_mths                                              0   \n",
              "delinq_amnt                                                           0   \n",
              "mo_sin_old_il_acct                                                  140   \n",
              "mo_sin_old_rev_tl_op                                                189   \n",
              "mo_sin_rcnt_rev_tl_op                                                13   \n",
              "mo_sin_rcnt_tl                                                       10   \n",
              "mort_acc                                                              0   \n",
              "mths_since_recent_bc                                                 13   \n",
              "mths_since_recent_bc_dlq                                            NaN   \n",
              "mths_since_recent_inq                                                 1   \n",
              "mths_since_recent_revol_delinq                                      NaN   \n",
              "num_accts_ever_120_pd                                                 0   \n",
              "num_actv_bc_tl                                                        2   \n",
              "num_actv_rev_tl                                                       2   \n",
              "num_bc_sats                                                           6   \n",
              "num_bc_tl                                                            10   \n",
              "num_il_tl                                                            13   \n",
              "num_op_rev_tl                                                         7   \n",
              "num_rev_accts                                                        14   \n",
              "num_rev_tl_bal_gt_0                                                   2   \n",
              "num_sats                                                             15   \n",
              "num_tl_120dpd_2m                                                      0   \n",
              "num_tl_30dpd                                                          0   \n",
              "num_tl_90g_dpd_24m                                                    0   \n",
              "num_tl_op_past_12m                                                    1   \n",
              "pct_tl_nvr_dlq                                                      100   \n",
              "percent_bc_gt_75                                                   16.7   \n",
              "pub_rec_bankruptcies                                                  0   \n",
              "tax_liens                                                             0   \n",
              "tot_hi_cred_lim                                                  130321   \n",
              "total_bal_ex_mort                                                 56321   \n",
              "total_bc_limit                                                    69700   \n",
              "total_il_high_credit_limit                                        59321   \n",
              "revol_bal_joint                                                     NaN   \n",
              "sec_app_earliest_cr_line                                            NaN   \n",
              "sec_app_inq_last_6mths                                              NaN   \n",
              "sec_app_mort_acc                                                    NaN   \n",
              "sec_app_open_acc                                                    NaN   \n",
              "sec_app_revol_util                                                  NaN   \n",
              "sec_app_open_act_il                                                 NaN   \n",
              "sec_app_num_rev_accts                                               NaN   \n",
              "sec_app_chargeoff_within_12_mths                                    NaN   \n",
              "sec_app_collections_12_mths_ex_med                                  NaN   \n",
              "sec_app_mths_since_last_major_derog                                 NaN   \n",
              "hardship_flag                                                         N   \n",
              "hardship_type                                                       NaN   \n",
              "hardship_reason                                                     NaN   \n",
              "hardship_status                                                     NaN   \n",
              "deferral_term                                                       NaN   \n",
              "hardship_amount                                                     NaN   \n",
              "hardship_start_date                                                 NaN   \n",
              "hardship_end_date                                                   NaN   \n",
              "payment_plan_start_date                                             NaN   \n",
              "hardship_length                                                     NaN   \n",
              "hardship_dpd                                                        NaN   \n",
              "hardship_loan_status                                                NaN   \n",
              "orig_projected_additional_accrued_interest                          NaN   \n",
              "hardship_payoff_balance_amount                                      NaN   \n",
              "hardship_last_payment_amount                                        NaN   \n",
              "debt_settlement_flag                                                  N   \n",
              "debt_settlement_flag_date                                           NaN   \n",
              "settlement_status                                                   NaN   \n",
              "settlement_date                                                     NaN   \n",
              "settlement_amount                                                   NaN   \n",
              "settlement_percentage                                               NaN   \n",
              "settlement_term                                                     NaN   \n",
              "\n",
              "                                                             4  \n",
              "id                                                         NaN  \n",
              "member_id                                                  NaN  \n",
              "loan_amnt                                                29000  \n",
              "funded_amnt                                              29000  \n",
              "funded_amnt_inv                                          29000  \n",
              "term                                                 36 months  \n",
              "int_rate                                                11.55%  \n",
              "installment                                                957  \n",
              "grade                                                        B  \n",
              "sub_grade                                                   B4  \n",
              "emp_title                                        Sales Manager  \n",
              "emp_length                                             8 years  \n",
              "home_ownership                                        MORTGAGE  \n",
              "annual_inc                                              110000  \n",
              "verification_status                            Source Verified  \n",
              "issue_d                                               Sep-2018  \n",
              "loan_status                                            Current  \n",
              "pymnt_plan                                                   n  \n",
              "url                                                        NaN  \n",
              "desc                                                       NaN  \n",
              "purpose                                     debt_consolidation  \n",
              "title                                       Debt consolidation  \n",
              "zip_code                                                 462xx  \n",
              "addr_state                                                  IN  \n",
              "dti                                                       17.9  \n",
              "delinq_2yrs                                                  1  \n",
              "earliest_cr_line                                      Dec-1994  \n",
              "inq_last_6mths                                               2  \n",
              "mths_since_last_delinq                                      14  \n",
              "mths_since_last_record                                     NaN  \n",
              "open_acc                                                    13  \n",
              "pub_rec                                                      0  \n",
              "revol_bal                                                49387  \n",
              "revol_util                                               59.2%  \n",
              "total_acc                                                   35  \n",
              "initial_list_status                                          w  \n",
              "out_prncp                                              18892.5  \n",
              "out_prncp_inv                                          18892.5  \n",
              "total_pymnt                                            13360.8  \n",
              "total_pymnt_inv                                        13360.8  \n",
              "total_rec_prncp                                        10107.5  \n",
              "total_rec_int                                          3253.32  \n",
              "total_rec_late_fee                                           0  \n",
              "recoveries                                                   0  \n",
              "collection_recovery_fee                                      0  \n",
              "last_pymnt_d                                          Nov-2019  \n",
              "last_pymnt_amnt                                            957  \n",
              "next_pymnt_d                                          Dec-2019  \n",
              "last_credit_pull_d                                    Nov-2019  \n",
              "collections_12_mths_ex_med                                   0  \n",
              "mths_since_last_major_derog                                 14  \n",
              "policy_code                                                  1  \n",
              "application_type                                    Individual  \n",
              "annual_inc_joint                                           NaN  \n",
              "dti_joint                                                  NaN  \n",
              "verification_status_joint                                  NaN  \n",
              "acc_now_delinq                                               0  \n",
              "tot_coll_amt                                                 0  \n",
              "tot_cur_bal                                             334446  \n",
              "open_acc_6m                                                  2  \n",
              "open_act_il                                                  3  \n",
              "open_il_12m                                                  0  \n",
              "open_il_24m                                                  0  \n",
              "mths_since_rcnt_il                                          27  \n",
              "total_bal_il                                             16945  \n",
              "il_util                                                     66  \n",
              "open_rv_12m                                                  2  \n",
              "open_rv_24m                                                  2  \n",
              "max_bal_bc                                               22866  \n",
              "all_util                                                    61  \n",
              "total_rev_hi_lim                                         83400  \n",
              "inq_fi                                                       0  \n",
              "total_cu_tl                                                  1  \n",
              "inq_last_12m                                                 2  \n",
              "acc_open_past_24mths                                         4  \n",
              "avg_cur_bal                                              25727  \n",
              "bc_open_to_buy                                           18384  \n",
              "bc_util                                                   71.2  \n",
              "chargeoff_within_12_mths                                     0  \n",
              "delinq_amnt                                                  0  \n",
              "mo_sin_old_il_acct                                         217  \n",
              "mo_sin_old_rev_tl_op                                       285  \n",
              "mo_sin_rcnt_rev_tl_op                                        2  \n",
              "mo_sin_rcnt_tl                                               2  \n",
              "mort_acc                                                     6  \n",
              "mths_since_recent_bc                                         2  \n",
              "mths_since_recent_bc_dlq                                   NaN  \n",
              "mths_since_recent_inq                                        2  \n",
              "mths_since_recent_revol_delinq                             NaN  \n",
              "num_accts_ever_120_pd                                        1  \n",
              "num_actv_bc_tl                                               3  \n",
              "num_actv_rev_tl                                              4  \n",
              "num_bc_sats                                                  5  \n",
              "num_bc_tl                                                    9  \n",
              "num_il_tl                                                   16  \n",
              "num_op_rev_tl                                                9  \n",
              "num_rev_accts                                               13  \n",
              "num_rev_tl_bal_gt_0                                          4  \n",
              "num_sats                                                    13  \n",
              "num_tl_120dpd_2m                                             0  \n",
              "num_tl_30dpd                                                 0  \n",
              "num_tl_90g_dpd_24m                                           1  \n",
              "num_tl_op_past_12m                                           2  \n",
              "pct_tl_nvr_dlq                                            97.1  \n",
              "percent_bc_gt_75                                            40  \n",
              "pub_rec_bankruptcies                                         0  \n",
              "tax_liens                                                    0  \n",
              "tot_hi_cred_lim                                         417298  \n",
              "total_bal_ex_mort                                        66332  \n",
              "total_bc_limit                                           63900  \n",
              "total_il_high_credit_limit                               60327  \n",
              "revol_bal_joint                                            NaN  \n",
              "sec_app_earliest_cr_line                                   NaN  \n",
              "sec_app_inq_last_6mths                                     NaN  \n",
              "sec_app_mort_acc                                           NaN  \n",
              "sec_app_open_acc                                           NaN  \n",
              "sec_app_revol_util                                         NaN  \n",
              "sec_app_open_act_il                                        NaN  \n",
              "sec_app_num_rev_accts                                      NaN  \n",
              "sec_app_chargeoff_within_12_mths                           NaN  \n",
              "sec_app_collections_12_mths_ex_med                         NaN  \n",
              "sec_app_mths_since_last_major_derog                        NaN  \n",
              "hardship_flag                                                N  \n",
              "hardship_type                                              NaN  \n",
              "hardship_reason                                            NaN  \n",
              "hardship_status                                            NaN  \n",
              "deferral_term                                              NaN  \n",
              "hardship_amount                                            NaN  \n",
              "hardship_start_date                                        NaN  \n",
              "hardship_end_date                                          NaN  \n",
              "payment_plan_start_date                                    NaN  \n",
              "hardship_length                                            NaN  \n",
              "hardship_dpd                                               NaN  \n",
              "hardship_loan_status                                       NaN  \n",
              "orig_projected_additional_accrued_interest                 NaN  \n",
              "hardship_payoff_balance_amount                             NaN  \n",
              "hardship_last_payment_amount                               NaN  \n",
              "debt_settlement_flag                                         N  \n",
              "debt_settlement_flag_date                                  NaN  \n",
              "settlement_status                                          NaN  \n",
              "settlement_date                                            NaN  \n",
              "settlement_amount                                          NaN  \n",
              "settlement_percentage                                      NaN  \n",
              "settlement_term                                            NaN  "
            ]
          },
          "metadata": {
            "tags": []
          },
          "execution_count": 6
        }
      ]
    },
    {
      "cell_type": "markdown",
      "metadata": {
        "colab_type": "text",
        "id": "1b5_hMTio2Ly"
      },
      "source": [
        "## Work with strings"
      ]
    },
    {
      "cell_type": "markdown",
      "metadata": {
        "colab_type": "text",
        "id": "arC__wBS5XRn"
      },
      "source": [
        "For machine learning, we usually want to replace strings with numbers"
      ]
    },
    {
      "cell_type": "markdown",
      "metadata": {
        "colab_type": "text",
        "id": "8ARYtpADluD8"
      },
      "source": [
        "We can get info about which columns have a datatype of \"object\" (strings)"
      ]
    },
    {
      "cell_type": "code",
      "metadata": {
        "colab_type": "code",
        "id": "WOL7QPVNo3F4",
        "outputId": "f9f3445e-a0cd-40dd-c8ed-0174e030b17e",
        "colab": {
          "base_uri": "https://localhost:8080/",
          "height": 729
        }
      },
      "source": [
        "df.select_dtypes('object').info()"
      ],
      "execution_count": 7,
      "outputs": [
        {
          "output_type": "stream",
          "text": [
            "<class 'pandas.core.frame.DataFrame'>\n",
            "RangeIndex: 128194 entries, 0 to 128193\n",
            "Data columns (total 36 columns):\n",
            "term                         128194 non-null object\n",
            "int_rate                     128194 non-null object\n",
            "grade                        128194 non-null object\n",
            "sub_grade                    128194 non-null object\n",
            "emp_title                    114757 non-null object\n",
            "emp_length                   117807 non-null object\n",
            "home_ownership               128194 non-null object\n",
            "verification_status          128194 non-null object\n",
            "issue_d                      128194 non-null object\n",
            "loan_status                  128194 non-null object\n",
            "pymnt_plan                   128194 non-null object\n",
            "purpose                      128194 non-null object\n",
            "title                        128194 non-null object\n",
            "zip_code                     128194 non-null object\n",
            "addr_state                   128194 non-null object\n",
            "earliest_cr_line             128194 non-null object\n",
            "revol_util                   128065 non-null object\n",
            "initial_list_status          128194 non-null object\n",
            "last_pymnt_d                 128053 non-null object\n",
            "next_pymnt_d                 96080 non-null object\n",
            "last_credit_pull_d           128191 non-null object\n",
            "application_type             128194 non-null object\n",
            "verification_status_joint    15729 non-null object\n",
            "sec_app_earliest_cr_line     17785 non-null object\n",
            "hardship_flag                128194 non-null object\n",
            "hardship_type                332 non-null object\n",
            "hardship_reason              332 non-null object\n",
            "hardship_status              332 non-null object\n",
            "hardship_start_date          332 non-null object\n",
            "hardship_end_date            332 non-null object\n",
            "payment_plan_start_date      332 non-null object\n",
            "hardship_loan_status         332 non-null object\n",
            "debt_settlement_flag         128194 non-null object\n",
            "debt_settlement_flag_date    585 non-null object\n",
            "settlement_status            585 non-null object\n",
            "settlement_date              585 non-null object\n",
            "dtypes: object(36)\n",
            "memory usage: 35.2+ MB\n"
          ],
          "name": "stdout"
        }
      ]
    },
    {
      "cell_type": "markdown",
      "metadata": {
        "colab_type": "text",
        "id": "m1mY5VDh6yir"
      },
      "source": [
        "### Convert `int_rate`"
      ]
    },
    {
      "cell_type": "markdown",
      "metadata": {
        "colab_type": "text",
        "id": "OeK2BaYVNmMn"
      },
      "source": [
        "Define a function to remove percent signs from strings and convert to floats"
      ]
    },
    {
      "cell_type": "code",
      "metadata": {
        "colab_type": "code",
        "id": "gXF3kQRY5zwE",
        "outputId": "c5957ece-9380-4f73-d0ca-0c00791c3b70",
        "colab": {
          "base_uri": "https://localhost:8080/",
          "height": 34
        }
      },
      "source": [
        "string='17.97%'\n",
        "\n",
        "def remove_percent(string):\n",
        "    return float(string.strip('%'))\n",
        "\n",
        "remove_percent(string)"
      ],
      "execution_count": 8,
      "outputs": [
        {
          "output_type": "execute_result",
          "data": {
            "text/plain": [
              "17.97"
            ]
          },
          "metadata": {
            "tags": []
          },
          "execution_count": 8
        }
      ]
    },
    {
      "cell_type": "markdown",
      "metadata": {
        "colab_type": "text",
        "id": "NkQHMGVOZ5Re"
      },
      "source": [
        "Apply the function to the `int_rate` column"
      ]
    },
    {
      "cell_type": "code",
      "metadata": {
        "colab_type": "code",
        "id": "Y8MqCBissw7T",
        "colab": {}
      },
      "source": [
        "df['int_rate'] = df['int_rate'].apply(remove_percent)"
      ],
      "execution_count": 0,
      "outputs": []
    },
    {
      "cell_type": "code",
      "metadata": {
        "colab_type": "code",
        "id": "LkF5IxLX6JJw",
        "outputId": "3012d903-476b-47d6-b553-aba066b58399",
        "colab": {
          "base_uri": "https://localhost:8080/",
          "height": 121
        }
      },
      "source": [
        "df['int_rate'].head()"
      ],
      "execution_count": 10,
      "outputs": [
        {
          "output_type": "execute_result",
          "data": {
            "text/plain": [
              "0    15.02\n",
              "1    10.08\n",
              "2     8.46\n",
              "3    12.73\n",
              "4    11.55\n",
              "Name: int_rate, dtype: float64"
            ]
          },
          "metadata": {
            "tags": []
          },
          "execution_count": 10
        }
      ]
    },
    {
      "cell_type": "markdown",
      "metadata": {
        "colab_type": "text",
        "id": "c_X3PxjM6-rc"
      },
      "source": [
        "### Clean `emp_title`"
      ]
    },
    {
      "cell_type": "markdown",
      "metadata": {
        "colab_type": "text",
        "id": "FirzP2i273My"
      },
      "source": [
        "Look at top 20 titles"
      ]
    },
    {
      "cell_type": "code",
      "metadata": {
        "colab_type": "code",
        "id": "aKGq7dZ2tKR6",
        "outputId": "3ce2158f-97c1-40c0-827e-aae8351fb051",
        "colab": {
          "base_uri": "https://localhost:8080/",
          "height": 381
        }
      },
      "source": [
        "df['emp_title'].value_counts().head(20)"
      ],
      "execution_count": 11,
      "outputs": [
        {
          "output_type": "execute_result",
          "data": {
            "text/plain": [
              "Teacher               2294\n",
              "Manager               2075\n",
              "Owner                 1231\n",
              "Driver                1089\n",
              "Registered Nurse       944\n",
              "Supervisor             810\n",
              "RN                     757\n",
              "Sales                  726\n",
              "Project Manager        637\n",
              "General Manager        548\n",
              "Office Manager         542\n",
              "Director               482\n",
              "owner                  398\n",
              "Engineer               383\n",
              "Truck Driver           367\n",
              "Operations Manager     366\n",
              "President              350\n",
              "Sales Manager          323\n",
              "Supervisor             321\n",
              "Server                 319\n",
              "Name: emp_title, dtype: int64"
            ]
          },
          "metadata": {
            "tags": []
          },
          "execution_count": 11
        }
      ]
    },
    {
      "cell_type": "markdown",
      "metadata": {
        "colab_type": "text",
        "id": "SFMSgs2NOg3W"
      },
      "source": [
        "How often is `emp_title` null?"
      ]
    },
    {
      "cell_type": "code",
      "metadata": {
        "colab_type": "code",
        "id": "n2j6JCXdOcBl",
        "outputId": "a0777351-f3aa-4d90-faa6-911975a12ae8",
        "colab": {
          "base_uri": "https://localhost:8080/",
          "height": 34
        }
      },
      "source": [
        "df['emp_title'].isnull().sum()"
      ],
      "execution_count": 12,
      "outputs": [
        {
          "output_type": "execute_result",
          "data": {
            "text/plain": [
              "13437"
            ]
          },
          "metadata": {
            "tags": []
          },
          "execution_count": 12
        }
      ]
    },
    {
      "cell_type": "markdown",
      "metadata": {
        "colab_type": "text",
        "id": "4krE3uwK7-vs"
      },
      "source": [
        "Clean the title and handle missing values"
      ]
    },
    {
      "cell_type": "code",
      "metadata": {
        "colab_type": "code",
        "id": "usnWwZlztln7",
        "outputId": "568ecde9-0dd8-4663-a0b3-947dd7afbc0a",
        "colab": {
          "base_uri": "https://localhost:8080/",
          "height": 86
        }
      },
      "source": [
        "import numpy as np\n",
        "examples = ['owner', 'Supervisor ', \n",
        "            ' Project manager', np.NaN]\n",
        "\n",
        "def clean_title(x):\n",
        "    if isinstance(x, str):        \n",
        "        return x.strip().title()\n",
        "    else:\n",
        "        return 'Unknown'\n",
        "\n",
        "for example in examples:\n",
        "    print(clean_title(example))"
      ],
      "execution_count": 15,
      "outputs": [
        {
          "output_type": "stream",
          "text": [
            "Owner\n",
            "Supervisor\n",
            "Project Manager\n",
            "Unknown\n"
          ],
          "name": "stdout"
        }
      ]
    },
    {
      "cell_type": "code",
      "metadata": {
        "colab_type": "code",
        "id": "OkOltpIV87eP",
        "colab": {}
      },
      "source": [
        "df['emp_title'] = df['emp_title'].apply(clean_title)"
      ],
      "execution_count": 0,
      "outputs": []
    },
    {
      "cell_type": "code",
      "metadata": {
        "colab_type": "code",
        "id": "wLWm4x1P_ujt",
        "outputId": "1b8643d8-8e01-479e-8afd-db5e756d72e1",
        "colab": {
          "base_uri": "https://localhost:8080/",
          "height": 381
        }
      },
      "source": [
        "df['emp_title'].value_counts().head(20)"
      ],
      "execution_count": 17,
      "outputs": [
        {
          "output_type": "execute_result",
          "data": {
            "text/plain": [
              "Unknown                     13437\n",
              "Teacher                      2843\n",
              "Manager                      2749\n",
              "Owner                        1856\n",
              "Driver                       1498\n",
              "Registered Nurse             1386\n",
              "Supervisor                   1345\n",
              "Sales                         980\n",
              "Truck Driver                  921\n",
              "Rn                            905\n",
              "Office Manager                846\n",
              "Project Manager               835\n",
              "General Manager               809\n",
              "Director                      585\n",
              "Operations Manager            516\n",
              "Sales Manager                 510\n",
              "Engineer                      474\n",
              "Store Manager                 466\n",
              "Administrative Assistant      466\n",
              "President                     464\n",
              "Name: emp_title, dtype: int64"
            ]
          },
          "metadata": {
            "tags": []
          },
          "execution_count": 17
        }
      ]
    },
    {
      "cell_type": "markdown",
      "metadata": {
        "colab_type": "text",
        "id": "oyz4mcqn7EOU"
      },
      "source": [
        "### Create `emp_title_manager`\n",
        "\n",
        "pandas documentation: [`str.contains`](https://pandas.pydata.org/pandas-docs/stable/generated/pandas.Series.str.contains.html)"
      ]
    },
    {
      "cell_type": "code",
      "metadata": {
        "colab_type": "code",
        "id": "iX6p6MQWvieC",
        "colab": {}
      },
      "source": [
        "# Boolean column, True if `emp_title` contains 'Manager',\n",
        "# otherwise False"
      ],
      "execution_count": 0,
      "outputs": []
    },
    {
      "cell_type": "code",
      "metadata": {
        "colab_type": "code",
        "id": "b1OsSNKdAVnO",
        "colab": {}
      },
      "source": [
        "df['emp_title_manager'] = df['emp_title'].str.contains('Manager')"
      ],
      "execution_count": 0,
      "outputs": []
    },
    {
      "cell_type": "code",
      "metadata": {
        "colab_type": "code",
        "id": "6hMnE4QMEz8P",
        "outputId": "a298022f-8348-42b7-bd8f-8e6c074241cb",
        "colab": {
          "base_uri": "https://localhost:8080/",
          "height": 69
        }
      },
      "source": [
        "df['emp_title_manager'].value_counts()"
      ],
      "execution_count": 20,
      "outputs": [
        {
          "output_type": "execute_result",
          "data": {
            "text/plain": [
              "False    109498\n",
              "True      18696\n",
              "Name: emp_title_manager, dtype: int64"
            ]
          },
          "metadata": {
            "tags": []
          },
          "execution_count": 20
        }
      ]
    },
    {
      "cell_type": "markdown",
      "metadata": {
        "colab_type": "text",
        "id": "s8BcCY6so3by"
      },
      "source": [
        "## Work with dates\n",
        "\n",
        "pandas documentation\n",
        "- [to_datetime](https://pandas.pydata.org/pandas-docs/stable/generated/pandas.to_datetime.html)\n",
        "- [Time/Date Components](https://pandas.pydata.org/pandas-docs/stable/timeseries.html#time-date-components) \"You can access these properties via the `.dt` accessor\""
      ]
    },
    {
      "cell_type": "code",
      "metadata": {
        "colab_type": "code",
        "id": "JvW84Xg1F72M",
        "colab": {}
      },
      "source": [
        "df['issue_d'] = pd.to_datetime(df['issue_d'], \n",
        "                               infer_datetime_format=True)"
      ],
      "execution_count": 0,
      "outputs": []
    },
    {
      "cell_type": "code",
      "metadata": {
        "colab_type": "code",
        "id": "gHJ4qTf_Gqyk",
        "outputId": "819b703c-a29d-4d00-b108-729924ae3fed",
        "colab": {
          "base_uri": "https://localhost:8080/",
          "height": 138
        }
      },
      "source": [
        "df['issue_d'].describe()"
      ],
      "execution_count": 22,
      "outputs": [
        {
          "output_type": "execute_result",
          "data": {
            "text/plain": [
              "count                  128194\n",
              "unique                      3\n",
              "top       2018-08-01 00:00:00\n",
              "freq                    46079\n",
              "first     2018-07-01 00:00:00\n",
              "last      2018-09-01 00:00:00\n",
              "Name: issue_d, dtype: object"
            ]
          },
          "metadata": {
            "tags": []
          },
          "execution_count": 22
        }
      ]
    },
    {
      "cell_type": "code",
      "metadata": {
        "colab_type": "code",
        "id": "WH2HbHCZG5BH",
        "colab": {}
      },
      "source": [
        "df['issue_year']  = df['issue_d'].dt.year\n",
        "df['issue_month'] = df['issue_d'].dt.month"
      ],
      "execution_count": 0,
      "outputs": []
    },
    {
      "cell_type": "code",
      "metadata": {
        "colab_type": "code",
        "id": "8u1XM0rmHrPv",
        "outputId": "e68ce4be-4557-40d5-9d63-f497dcad3601",
        "colab": {
          "base_uri": "https://localhost:8080/",
          "height": 34
        }
      },
      "source": [
        "df['issue_month'].sample(n=10).values"
      ],
      "execution_count": 24,
      "outputs": [
        {
          "output_type": "execute_result",
          "data": {
            "text/plain": [
              "array([7, 8, 7, 7, 9, 8, 8, 7, 9, 7])"
            ]
          },
          "metadata": {
            "tags": []
          },
          "execution_count": 24
        }
      ]
    },
    {
      "cell_type": "code",
      "metadata": {
        "colab_type": "code",
        "id": "bcQuKb6fGodY",
        "colab": {}
      },
      "source": [
        "df['earliest_cr_line'] = pd.to_datetime(df['earliest_cr_line'], \n",
        "                                        infer_datetime_format=True)"
      ],
      "execution_count": 0,
      "outputs": []
    },
    {
      "cell_type": "code",
      "metadata": {
        "colab_type": "code",
        "id": "aXGVk6gATvCi",
        "outputId": "1c18aaf0-c783-4592-9f5a-9c3719f45b1b",
        "colab": {
          "base_uri": "https://localhost:8080/",
          "height": 121
        }
      },
      "source": [
        "(df['issue_d'] - df['earliest_cr_line']).head()"
      ],
      "execution_count": 26,
      "outputs": [
        {
          "output_type": "execute_result",
          "data": {
            "text/plain": [
              "0   2984 days\n",
              "1   4506 days\n",
              "2   6971 days\n",
              "3   5753 days\n",
              "4   8675 days\n",
              "dtype: timedelta64[ns]"
            ]
          },
          "metadata": {
            "tags": []
          },
          "execution_count": 26
        }
      ]
    },
    {
      "cell_type": "code",
      "metadata": {
        "colab_type": "code",
        "id": "pbdnag0EILcX",
        "colab": {}
      },
      "source": [
        "df['days_from_earliest_credit_to_issue'] = (\n",
        "    df['issue_d'] - df['earliest_cr_line']).dt.days"
      ],
      "execution_count": 0,
      "outputs": []
    },
    {
      "cell_type": "code",
      "metadata": {
        "colab_type": "code",
        "id": "iHSNTp4lI3cb",
        "outputId": "2ad9f6d1-a797-41b1-d499-02979125dc50",
        "colab": {
          "base_uri": "https://localhost:8080/",
          "height": 34
        }
      },
      "source": [
        "df['days_from_earliest_credit_to_issue'].head().values"
      ],
      "execution_count": 28,
      "outputs": [
        {
          "output_type": "execute_result",
          "data": {
            "text/plain": [
              "array([2984, 4506, 6971, 5753, 8675])"
            ]
          },
          "metadata": {
            "tags": []
          },
          "execution_count": 28
        }
      ]
    },
    {
      "cell_type": "code",
      "metadata": {
        "colab_type": "code",
        "id": "BQSsYPHzJQXc",
        "outputId": "8a9d6516-8264-4ffc-b748-75ff83146361",
        "colab": {
          "base_uri": "https://localhost:8080/",
          "height": 34
        }
      },
      "source": [
        "[col for col in df if col.endswith('_d')]"
      ],
      "execution_count": 29,
      "outputs": [
        {
          "output_type": "execute_result",
          "data": {
            "text/plain": [
              "['issue_d', 'last_pymnt_d', 'next_pymnt_d', 'last_credit_pull_d']"
            ]
          },
          "metadata": {
            "tags": []
          },
          "execution_count": 29
        }
      ]
    },
    {
      "cell_type": "code",
      "metadata": {
        "colab_type": "code",
        "id": "b6_ubkeuJaPB",
        "colab": {}
      },
      "source": [
        "for col in ['last_pymnt_d', 'next_pymnt_d', 'last_credit_pull_d']:\n",
        "    df[col] = pd.to_datetime(\n",
        "        df[col],\n",
        "        infer_datetime_format=True)\n",
        "   "
      ],
      "execution_count": 0,
      "outputs": []
    },
    {
      "cell_type": "markdown",
      "metadata": {
        "colab_type": "text",
        "id": "jtmEQjOv9FNo"
      },
      "source": [
        "# ASSIGNMENT"
      ]
    },
    {
      "cell_type": "markdown",
      "metadata": {
        "colab_type": "text",
        "id": "0r-41N_vwneG"
      },
      "source": [
        "- Replicate the lesson code.\n",
        "\n",
        "- Convert the `term` column from string to integer.\n",
        "\n",
        "- Make a column named `loan_status_is_great`. It should contain the integer 1 if `loan_status` is \"Current\" or \"Fully Paid.\" Else it should contain the integer 0.\n",
        "\n",
        "- Make `last_pymnt_d_month` and `last_pymnt_d_year` columns."
      ]
    },
    {
      "cell_type": "code",
      "metadata": {
        "colab_type": "code",
        "id": "ZI4IlchlT5g3",
        "outputId": "6ad43077-0ffc-446f-a4c2-9faa39913fbe",
        "colab": {
          "base_uri": "https://localhost:8080/",
          "height": 69
        }
      },
      "source": [
        "df['term'].value_counts(dropna=False)"
      ],
      "execution_count": 31,
      "outputs": [
        {
          "output_type": "execute_result",
          "data": {
            "text/plain": [
              " 36 months    89574\n",
              " 60 months    38620\n",
              "Name: term, dtype: int64"
            ]
          },
          "metadata": {
            "tags": []
          },
          "execution_count": 31
        }
      ]
    },
    {
      "cell_type": "code",
      "metadata": {
        "colab_type": "code",
        "id": "ea9ODclET8f0",
        "colab": {}
      },
      "source": [
        "df['term'] = df['term'].str.strip('months').astype(int)"
      ],
      "execution_count": 0,
      "outputs": []
    },
    {
      "cell_type": "code",
      "metadata": {
        "colab_type": "code",
        "id": "uQzk-mofVAv3",
        "outputId": "717cfc67-2161-40bb-f992-460e551151d8",
        "colab": {
          "base_uri": "https://localhost:8080/",
          "height": 69
        }
      },
      "source": [
        "df['term'].value_counts(dropna=False)"
      ],
      "execution_count": 33,
      "outputs": [
        {
          "output_type": "execute_result",
          "data": {
            "text/plain": [
              "36    89574\n",
              "60    38620\n",
              "Name: term, dtype: int64"
            ]
          },
          "metadata": {
            "tags": []
          },
          "execution_count": 33
        }
      ]
    },
    {
      "cell_type": "code",
      "metadata": {
        "colab_type": "code",
        "id": "V6km0e4qUZcM",
        "outputId": "9f00f726-0225-4e26-eae7-b64fbf773171",
        "colab": {
          "base_uri": "https://localhost:8080/",
          "height": 156
        }
      },
      "source": [
        "df['loan_status'].value_counts(dropna=False)"
      ],
      "execution_count": 34,
      "outputs": [
        {
          "output_type": "execute_result",
          "data": {
            "text/plain": [
              "Current               92259\n",
              "Fully Paid            25622\n",
              "Charged Off            6492\n",
              "Late (31-120 days)     2685\n",
              "In Grace Period         688\n",
              "Late (16-30 days)       444\n",
              "Default                   4\n",
              "Name: loan_status, dtype: int64"
            ]
          },
          "metadata": {
            "tags": []
          },
          "execution_count": 34
        }
      ]
    },
    {
      "cell_type": "code",
      "metadata": {
        "colab_type": "code",
        "id": "UIoxhjymUTkG",
        "colab": {}
      },
      "source": [
        "def great(loan_status):\n",
        "    if loan_status == 'Current' or loan_status == 'Fully Paid':\n",
        "        return 1\n",
        "    else:\n",
        "        return 0\n",
        "    \n",
        "df['loan_status_is_great'] = df['loan_status'].apply(great)"
      ],
      "execution_count": 0,
      "outputs": []
    },
    {
      "cell_type": "code",
      "metadata": {
        "colab_type": "code",
        "id": "Hw5ZZ2S7UO-K",
        "outputId": "95f3246f-b90c-4876-d21b-4ac3a4bd1e65",
        "colab": {
          "base_uri": "https://localhost:8080/",
          "height": 69
        }
      },
      "source": [
        "df['loan_status_is_great'].value_counts(dropna=False)"
      ],
      "execution_count": 36,
      "outputs": [
        {
          "output_type": "execute_result",
          "data": {
            "text/plain": [
              "1    117881\n",
              "0     10313\n",
              "Name: loan_status_is_great, dtype: int64"
            ]
          },
          "metadata": {
            "tags": []
          },
          "execution_count": 36
        }
      ]
    },
    {
      "cell_type": "code",
      "metadata": {
        "colab_type": "code",
        "id": "eqoPzqI_VOhV",
        "outputId": "d124403f-5f27-461a-d2e4-61b7adee98e7",
        "colab": {
          "base_uri": "https://localhost:8080/",
          "height": 34
        }
      },
      "source": [
        "df['last_pymnt_d'].values[0]"
      ],
      "execution_count": 40,
      "outputs": [
        {
          "output_type": "execute_result",
          "data": {
            "text/plain": [
              "numpy.datetime64('2019-11-01T00:00:00.000000000')"
            ]
          },
          "metadata": {
            "tags": []
          },
          "execution_count": 40
        }
      ]
    },
    {
      "cell_type": "code",
      "metadata": {
        "colab_type": "code",
        "id": "LN-6nub5WX44",
        "colab": {}
      },
      "source": [
        "df['last_pymnt_d_month'] = df['last_pymnt_d'].dt.month\n",
        "df['last_pymnt_d_year'] = df['last_pymnt_d'].dt.year"
      ],
      "execution_count": 0,
      "outputs": []
    },
    {
      "cell_type": "code",
      "metadata": {
        "colab_type": "code",
        "id": "zF5Ml_iNWUbR",
        "outputId": "70d7df5a-6c2a-4541-db5c-a2fe4cf1baae",
        "colab": {
          "base_uri": "https://localhost:8080/",
          "height": 34
        }
      },
      "source": [
        "df['last_pymnt_d_month'].values[0], df['last_pymnt_d_year'].values[0]"
      ],
      "execution_count": 39,
      "outputs": [
        {
          "output_type": "execute_result",
          "data": {
            "text/plain": [
              "(11.0, 2019.0)"
            ]
          },
          "metadata": {
            "tags": []
          },
          "execution_count": 39
        }
      ]
    },
    {
      "cell_type": "markdown",
      "metadata": {
        "colab_type": "text",
        "id": "mkXZP34V2tXI"
      },
      "source": [
        "# STRETCH OPTIONS\n",
        "\n",
        "You can do more with the LendingClub or Instacart datasets.\n",
        "\n",
        "LendingClub options:\n",
        "- There's one other column in the dataframe with percent signs. Remove them and convert to floats. You'll need to handle missing values.\n",
        "- Modify the `emp_title` column to replace titles with 'Other' if the title is not in the top 20. \n",
        "- Take initiatve and work on your own ideas!\n",
        "\n",
        "Instacart options:\n",
        "- Read [Instacart Market Basket Analysis, Winner's Interview: 2nd place, Kazuki Onodera](http://blog.kaggle.com/2017/09/21/instacart-market-basket-analysis-winners-interview-2nd-place-kazuki-onodera/), especially the **Feature Engineering** section. (Can you choose one feature from his bulleted lists, and try to engineer it with pandas code?)\n",
        "- Read and replicate parts of [Simple Exploration Notebook - Instacart](https://www.kaggle.com/sudalairajkumar/simple-exploration-notebook-instacart). (It's the Python Notebook with the most upvotes for this Kaggle competition.)\n",
        "- Take initiative and work on your own ideas!"
      ]
    },
    {
      "cell_type": "code",
      "metadata": {
        "colab_type": "code",
        "id": "VVSgYw40W2-F",
        "colab": {}
      },
      "source": [
        "df['revol_util'].head()"
      ],
      "execution_count": 0,
      "outputs": []
    },
    {
      "cell_type": "code",
      "metadata": {
        "colab_type": "code",
        "id": "8wRmL3-GXQe7",
        "colab": {}
      },
      "source": [
        "df['revol_util'] = df['revol_util'].fillna('0').str.strip('%').astype(float)"
      ],
      "execution_count": 0,
      "outputs": []
    },
    {
      "cell_type": "code",
      "metadata": {
        "colab_type": "code",
        "id": "50_87JCfXchG",
        "colab": {}
      },
      "source": [
        "df['revol_util'].head()"
      ],
      "execution_count": 0,
      "outputs": []
    },
    {
      "cell_type": "code",
      "metadata": {
        "colab_type": "code",
        "id": "hhsWK7o9YMBL",
        "colab": {}
      },
      "source": [
        "df['emp_title'].nunique()"
      ],
      "execution_count": 0,
      "outputs": []
    },
    {
      "cell_type": "code",
      "metadata": {
        "colab_type": "code",
        "id": "WCm6KlFBXaGW",
        "colab": {}
      },
      "source": [
        "top20_titles = df['emp_title'].value_counts().head(20).index"
      ],
      "execution_count": 0,
      "outputs": []
    },
    {
      "cell_type": "code",
      "metadata": {
        "colab_type": "code",
        "id": "eApDgWEUXOul",
        "colab": {}
      },
      "source": [
        "def combine_titles(title):\n",
        "    if title not in top20_titles:\n",
        "        return 'Other'\n",
        "    else:\n",
        "        return title\n",
        "    \n",
        "examples = ['Unknown', 'Teacher', 'Manager', 'Data Scientist', 'Web Developer']\n",
        "\n",
        "for example in examples:\n",
        "    print(combine_titles(example))"
      ],
      "execution_count": 0,
      "outputs": []
    },
    {
      "cell_type": "code",
      "metadata": {
        "colab_type": "code",
        "id": "uDesmVINfYVW",
        "colab": {}
      },
      "source": [
        "df['emp_title'] = df['emp_title'].apply(combine_titles)"
      ],
      "execution_count": 0,
      "outputs": []
    },
    {
      "cell_type": "code",
      "metadata": {
        "colab_type": "code",
        "id": "rqC8qYr8czto",
        "colab": {}
      },
      "source": [
        "df['emp_title'].nunique()"
      ],
      "execution_count": 0,
      "outputs": []
    },
    {
      "cell_type": "markdown",
      "metadata": {
        "colab_type": "text",
        "id": "0_7PXF7lpEXg"
      },
      "source": [
        "You can uncomment and run the cells below to re-download and extract the Instacart data"
      ]
    },
    {
      "cell_type": "code",
      "metadata": {
        "colab_type": "code",
        "id": "eqADJbAipBmM",
        "colab": {}
      },
      "source": [
        "# !wget https://s3.amazonaws.com/instacart-datasets/instacart_online_grocery_shopping_2017_05_01.tar.gz"
      ],
      "execution_count": 0,
      "outputs": []
    },
    {
      "cell_type": "code",
      "metadata": {
        "colab_type": "code",
        "id": "zZm3Tk9gpGxk",
        "colab": {}
      },
      "source": [
        "# !tar --gunzip --extract --verbose --file=instacart_online_grocery_shopping_2017_05_01.tar.gz"
      ],
      "execution_count": 0,
      "outputs": []
    },
    {
      "cell_type": "code",
      "metadata": {
        "colab_type": "code",
        "id": "llt7qLvWpIsL",
        "colab": {}
      },
      "source": [
        "# %cd instacart_2017_05_01"
      ],
      "execution_count": 0,
      "outputs": []
    }
  ]
}